{
  "cells": [
    {
      "cell_type": "code",
      "execution_count": 1,
      "metadata": {
        "colab": {
          "base_uri": "https://localhost:8080/"
        },
        "collapsed": true,
        "id": "5sScYieb57NQ",
        "outputId": "755c3397-0793-45c2-9a9f-3fe239543cc2"
      },
      "outputs": [],
      "source": [
        "import pandas as pd \n",
        "import numpy as np\n",
        "import matplotlib.pyplot as plt\n",
        "import seaborn as sns\n",
        "from sklearn import datasets\n",
        "from sklearn.linear_model import LogisticRegression\n",
        "from sklearn.model_selection import train_test_split\n",
        "from sklearn.metrics import confusion_matrix\n",
        "from sklearn.metrics import accuracy_score, recall_score\n",
        "from sklearn.metrics import roc_curve\n",
        "from sklearn.metrics import roc_auc_score\n",
        "from sklearn.metrics import RocCurveDisplay\n",
        "from sklearn.discriminant_analysis import LinearDiscriminantAnalysis\n",
        "from sklearn.neighbors import KNeighborsClassifier"
      ]
    },
    {
      "cell_type": "code",
      "execution_count": 2,
      "metadata": {
        "id": "weQ2EwMO4hLs"
      },
      "outputs": [],
      "source": [
        "# abrimos el documento utilizando Pandas\n",
        "eph_total = pd.read_excel(\"usu_individual_T423.xlsx\")"
      ]
    },
    {
      "cell_type": "code",
      "execution_count": 3,
      "metadata": {},
      "outputs": [
        {
          "name": "stdout",
          "output_type": "stream",
          "text": [
            "(47337, 177)\n"
          ]
        }
      ],
      "source": [
        "eph = eph_total.copy() # para no tener que importar el excel cada vez porque tarda 20 segundos\n",
        "print(eph.shape)"
      ]
    },
    {
      "cell_type": "markdown",
      "metadata": {
        "id": "q17pbuyXut3N"
      },
      "source": [
        "# PARTE 1\n",
        "\n",
        "## Ejercicio 2.a) dejar CABA y GBA"
      ]
    },
    {
      "cell_type": "code",
      "execution_count": 4,
      "metadata": {
        "id": "WhcOeyfo_L6o"
      },
      "outputs": [
        {
          "data": {
            "text/plain": [
              "(7380, 177)"
            ]
          },
          "execution_count": 4,
          "metadata": {},
          "output_type": "execute_result"
        }
      ],
      "source": [
        "# buscamos quedarnos con CABA y GBA, por lo que los valores dentro de 'aglomerado' deben ser 32 y 33\n",
        "# eliminamos los que no cumplan esta condicion \n",
        "eph = eph[eph['AGLOMERADO'].isin([32, 33])].reset_index(drop=True)\n",
        "eph.shape\n",
        "# Notamos que ahora pasamos de 47337 obs a 7380 obs"
      ]
    },
    {
      "cell_type": "markdown",
      "metadata": {
        "id": "sPvZHNMfvYLj"
      },
      "source": [
        "## Ejercicio 2.b) Outliers"
      ]
    },
    {
      "cell_type": "code",
      "execution_count": 5,
      "metadata": {
        "colab": {
          "base_uri": "https://localhost:8080/"
        },
        "id": "9nWWP7eL_dFG",
        "outputId": "4529ef47-fdb7-44fc-bf0c-c003a8c7db6f"
      },
      "outputs": [
        {
          "name": "stdout",
          "output_type": "stream",
          "text": [
            "observaciones antes de eliminar outliers: 7380\n",
            "despues: 6360\n",
            "se eliminaron: 1020 observaciones\n"
          ]
        }
      ],
      "source": [
        "antes = eph.shape[0]\n",
        "print(\"observaciones antes de eliminar outliers:\", eph.shape[0])\n",
        "\n",
        "# las columnas que vamos a chequear si tiene outliers:\n",
        "# son columnas que deberian ser positivas sino no tienen sentido\n",
        "columnas = ['CH06',       # edad\n",
        "              'PP08D1',   # ingresos de asalariados\n",
        "              'PP06C',    # ingresos de independientes sin cuentas de asociados\n",
        "              'PP06D',    # ingresos de independientes con cuentas de asociados\n",
        "              'ITF',      # Ingreso total familiar\n",
        "              'IPCF']     # Ingreso per capita familiar\n",
        "\n",
        "# esta función toma un numero y los valores negativos los convierte en NA\n",
        "# es para aplicarla con .apply() a cada columna despues\n",
        "def outliers(val):\n",
        "  if val < 0:\n",
        "    return \"borrar\"\n",
        "  else:\n",
        "    return val\n",
        "\n",
        "# Convermitmos en el string \"borrar\" los valores que no tienen sentido\n",
        "for col in columnas:\n",
        "  eph[col] = eph[col].apply(outliers)\n",
        "\n",
        "# eliminamos los outliers que identificamos como \"borrar\"\n",
        "\n",
        "# esto encuentra los indices de las filas que tienen el string \"borrar\" y los dropea\n",
        "eph = eph.drop(np.where(eph.applymap(lambda x: x == 'borrar').any(axis=1))[0])\n",
        "\n",
        "eph.reset_index(drop=True, inplace=True)\n",
        "\n",
        "\n",
        "print(\"despues:\", eph.shape[0])\n",
        "print(\"se eliminaron:\", antes-eph.shape[0], \"observaciones\")"
      ]
    },
    {
      "cell_type": "markdown",
      "metadata": {
        "id": "Sh_xZQFKvfUP"
      },
      "source": [
        "## Ejercicio 2.c) Histograma por sexo"
      ]
    },
    {
      "cell_type": "code",
      "execution_count": 6,
      "metadata": {
        "colab": {
          "base_uri": "https://localhost:8080/",
          "height": 472
        },
        "id": "ptTCRMksq9-Q",
        "outputId": "4ba4cf8c-9d02-43a0-d187-8997b873327a"
      },
      "outputs": [
        {
          "data": {
            "image/png": "[encoded data removed]",
            "text/plain": [
              "<Figure size 640x480 with 1 Axes>"
            ]
          },
          "metadata": {},
          "output_type": "display_data"
        }
      ],
      "source": [
        "# guardamos la frecuencia de cada sexo\n",
        "freq_dict = {'varon': 0, 'mujer': 0}\n",
        "for item in eph['CH04']:\n",
        "  if item == 1:\n",
        "    freq_dict['varon'] += 1\n",
        "  elif item == 2:\n",
        "    freq_dict['mujer'] += 1\n",
        "\n",
        "# computamos la proporcion de varones y de mujeres\n",
        "freq_dict['varon'] = freq_dict['varon'] / len(eph['CH04'])\n",
        "freq_dict['mujer'] = freq_dict['mujer'] / len(eph['CH04'])\n",
        "\n",
        "# hacemos el histograma con matplot\n",
        "plt.bar(list(freq_dict.keys()), list(freq_dict.values()))\n",
        "plt.xlabel('Sexo')\n",
        "plt.ylabel('Frecuencia')\n",
        "plt.title('composicion por sexo')\n",
        "plt.show()"
      ]
    },
    {
      "cell_type": "markdown",
      "metadata": {
        "id": "U5xCebqevih-"
      },
      "source": [
        "## Ejercicio 2.d) Matriz de Correlación"
      ]
    },
    {
      "cell_type": "code",
      "execution_count": 7,
      "metadata": {
        "colab": {
          "base_uri": "https://localhost:8080/",
          "height": 725
        },
        "id": "mqyZy1QdsaPm",
        "outputId": "128e1413-f06b-46ae-f19a-da6687e3627a"
      },
      "outputs": [
        {
          "data": {
            "text/plain": [
              "<Figure size 700x700 with 0 Axes>"
            ]
          },
          "metadata": {},
          "output_type": "display_data"
        },
        {
          "data": {
            "image/png": "[encoded data removed]",
            "text/plain": [
              "<Figure size 1000x800 with 2 Axes>"
            ]
          },
          "metadata": {},
          "output_type": "display_data"
        }
      ],
      "source": [
        "plt.figure(figsize=(7, 7))\n",
        "eph_2 = eph[['CH04', 'CH07', 'CH08', 'NIVEL_ED', 'ESTADO', 'CAT_INAC', 'IPCF']]\n",
        "eph_2 = eph_2.rename(columns={\n",
        "    'CH04': 'Sexo',\n",
        "    'CH07': 'Estado Civil',\n",
        "    'CH08': 'Cobertura Medica',\n",
        "    'NIVEL_ED': 'Nivel de Educación',\n",
        "    'ESTADO': 'Condicion de Actividad',\n",
        "    'CAT_INAC': 'Categoría de inactividad',\n",
        "    'IPCF': 'Ingreso per capita familiar'\n",
        "})\n",
        "corr = eph_2.corr()\n",
        "plt.figure(figsize=(10, 8))\n",
        "sns.heatmap(corr, annot=True, fmt=\".2f\", cmap='coolwarm', square=True, linewidths=.5)\n",
        "plt.title('Matriz de correlacion')\n",
        "plt.show()"
      ]
    },
    {
      "cell_type": "markdown",
      "metadata": {
        "id": "PitF8HQFvmji"
      },
      "source": [
        "## Ejercicio 2.e) Descripción de la base"
      ]
    },
    {
      "cell_type": "code",
      "execution_count": 8,
      "metadata": {
        "colab": {
          "base_uri": "https://localhost:8080/"
        },
        "id": "ule9-sGqxCMv",
        "outputId": "2c523152-21f4-4ab6-9c91-ccd94a1c617d"
      },
      "outputs": [
        {
          "name": "stdout",
          "output_type": "stream",
          "text": [
            "La cantidad de desocupados en la muestra es de 240\n",
            "La cantidad de inactivos en la muestra es de 2765\n",
            "La media del ingreso per capita familiar para activos es 182038.68\n",
            "La media del ingreso per capita familiar para desocupados es 58012.20\n",
            "La media del ingreso per capita familiar para inactivos es 84993.68\n"
          ]
        }
      ],
      "source": [
        "print(f\"La cantidad de desocupados en la muestra es de {len(eph[eph['ESTADO'] == 2])}\")\n",
        "print(f\"La cantidad de inactivos en la muestra es de {len(eph[eph['ESTADO'] == 3])}\")\n",
        "print(f\"La media del ingreso per capita familiar para activos es {np.mean(eph['IPCF'][eph['ESTADO'] == 1]):.2f}\")\n",
        "print(f\"La media del ingreso per capita familiar para desocupados es {np.mean(eph['IPCF'][eph['ESTADO'] == 2]):.2f}\")\n",
        "print(f\"La media del ingreso per capita familiar para inactivos es {np.mean(eph['IPCF'][eph['ESTADO'] == 3]):.2f}\")"
      ]
    },
    {
      "cell_type": "markdown",
      "metadata": {
        "id": "MfYjPWZuvvoc"
      },
      "source": [
        "## Ejercicio 2.f) Adulto equivalente\n",
        "Agregamos en la base eph una columna 'ad_equiv_hogar' "
      ]
    },
    {
      "cell_type": "code",
      "execution_count": 9,
      "metadata": {
        "colab": {
          "base_uri": "https://localhost:8080/"
        },
        "collapsed": true,
        "id": "2CWRmnWJRX8k",
        "outputId": "ce32a5ae-5787-4636-bd11-d7842383c074"
      },
      "outputs": [],
      "source": [
        "# leemos el documento y acomodamos el nombre de las columnas\n",
        "ad_equiv = pd.read_excel(\"tabla_adulto_equiv.xlsx\")\n",
        "ad_equiv.rename(columns={'Tabla de equivalencias de necesidades energéticas. Unidades de adulto equivalente, según sexo y edad': 'edad', \n",
        "                         'Unnamed: 1': 'mujeres', \n",
        "                         'Unnamed: 2': 'varones'}, \n",
        "                inplace=True)\n",
        "\n",
        "# borramos las columnas que no necesitamos\n",
        "ad_equiv.drop([0,1,2,3,27,28,29,30,31,32,33,34,35,36,37,38], inplace=True)\n",
        "ad_equiv.reset_index(drop=True, inplace=True)\n",
        "\n",
        "# generamos en la base de eph la columna de necesidades energeticas\n",
        "eph['adulto_equiv'] = np.nan\n",
        "\n",
        "\n",
        "# agarramos en cada rango de edades descrito como string el comienzo y el final del rango\n",
        "# esta funcion rango le das un string y crea una lista con los numeros que haya en ese string\n",
        "def rangos(s):             \n",
        "    num_str = ''\n",
        "    edades = []\n",
        "    for car in s:\n",
        "        if car.isdigit():\n",
        "            num_str += car\n",
        "        elif num_str:\n",
        "            edades.append(int(num_str))\n",
        "            num_str = ''\n",
        "    if num_str:\n",
        "        edades.append(int(num_str))\n",
        "    return edades\n",
        "\n",
        "# hacemos que la columna de strings que describen los rangos sea una columna de listas\n",
        "ad_equiv['edad'] = ad_equiv['edad'].apply(rangos)\n",
        "\n",
        "# hacemos que cada lista tenga dos elementos, comienzo y final, tal que los lea python (1 más que el valor final)\n",
        "for r in ad_equiv['edad']:\n",
        "    if len(r) == 1:\n",
        "        r.append(r[-1] + 1)\n",
        "    else:\n",
        "        r[-1] += 1\n",
        "\n",
        "ad_equiv.loc[0, 'edad'][0],  ad_equiv.loc[0, 'edad'][1]= 0, 1   # corregimos el primer rango\n",
        "ad_equiv.loc[ad_equiv.index[-1], 'edad'][-1] = 150              # el ultimo rango lo hacemos hasta 150\n",
        "\n",
        "\n",
        "# asignamos las necesidades electricas a la columna de eph\n",
        "for index, row in ad_equiv.iterrows():\n",
        "    age_list = list(range(row['edad'][0], row['edad'][1]))\n",
        "    for sex, column in [(1, 'varones'), (2, 'mujeres')]:\n",
        "        # aca asigna en 'adulto_equiv' los que cumpla la condicion de su respectiva edad y sexo\n",
        "        eph.loc[(eph['CH06'].isin(age_list)) & (eph['CH04'] == sex), 'adulto_equiv'] = row[column]\n"
      ]
    },
    {
      "cell_type": "markdown",
      "metadata": {},
      "source": [
        "Ahora para cada hogar sumamos los valores de adulto equivalente de los miembros del hogar"
      ]
    },
    {
      "cell_type": "code",
      "execution_count": 10,
      "metadata": {
        "colab": {
          "base_uri": "https://localhost:8080/",
          "height": 424
        },
        "id": "YRrociVxcpGG",
        "outputId": "baecdc02-b618-477b-f601-fcb2e1f8528d"
      },
      "outputs": [
        {
          "data": {
            "text/html": [
              "<div>\n",
              "<style scoped>\n",
              "    .dataframe tbody tr th:only-of-type {\n",
              "        vertical-align: middle;\n",
              "    }\n",
              "\n",
              "    .dataframe tbody tr th {\n",
              "        vertical-align: top;\n",
              "    }\n",
              "\n",
              "    .dataframe thead th {\n",
              "        text-align: right;\n",
              "    }\n",
              "</style>\n",
              "<table border=\"1\" class=\"dataframe\">\n",
              "  <thead>\n",
              "    <tr style=\"text-align: right;\">\n",
              "      <th></th>\n",
              "      <th>ad_equiv_hogar</th>\n",
              "      <th>CODUSU</th>\n",
              "      <th>CH06</th>\n",
              "    </tr>\n",
              "  </thead>\n",
              "  <tbody>\n",
              "    <tr>\n",
              "      <th>0</th>\n",
              "      <td>1.37</td>\n",
              "      <td>TQRMNOTUUHJMLPCDEIIAD00801670</td>\n",
              "      <td>76</td>\n",
              "    </tr>\n",
              "    <tr>\n",
              "      <th>1</th>\n",
              "      <td>1.37</td>\n",
              "      <td>TQRMNOTUUHJMLPCDEIIAD00801670</td>\n",
              "      <td>79</td>\n",
              "    </tr>\n",
              "    <tr>\n",
              "      <th>2</th>\n",
              "      <td>5.64</td>\n",
              "      <td>TQRMNOPUUHJKLQCDEIIAD00793187</td>\n",
              "      <td>65</td>\n",
              "    </tr>\n",
              "    <tr>\n",
              "      <th>3</th>\n",
              "      <td>5.64</td>\n",
              "      <td>TQRMNOPUUHJKLQCDEIIAD00793187</td>\n",
              "      <td>66</td>\n",
              "    </tr>\n",
              "    <tr>\n",
              "      <th>4</th>\n",
              "      <td>2.82</td>\n",
              "      <td>TQRMNOPUTHKLMNCDEIIAD00791268</td>\n",
              "      <td>49</td>\n",
              "    </tr>\n",
              "    <tr>\n",
              "      <th>...</th>\n",
              "      <td>...</td>\n",
              "      <td>...</td>\n",
              "      <td>...</td>\n",
              "    </tr>\n",
              "    <tr>\n",
              "      <th>6355</th>\n",
              "      <td>2.43</td>\n",
              "      <td>TQRMNOSRQHLMNSCDEIJAH00855730</td>\n",
              "      <td>39</td>\n",
              "    </tr>\n",
              "    <tr>\n",
              "      <th>6356</th>\n",
              "      <td>2.43</td>\n",
              "      <td>TQRMNOSRQHLMNSCDEIJAH00855730</td>\n",
              "      <td>7</td>\n",
              "    </tr>\n",
              "    <tr>\n",
              "      <th>6357</th>\n",
              "      <td>2.52</td>\n",
              "      <td>TQRMNOVTYHLMNUCDEIJAH00855731</td>\n",
              "      <td>67</td>\n",
              "    </tr>\n",
              "    <tr>\n",
              "      <th>6358</th>\n",
              "      <td>2.52</td>\n",
              "      <td>TQRMNOVTYHLMNUCDEIJAH00855731</td>\n",
              "      <td>67</td>\n",
              "    </tr>\n",
              "    <tr>\n",
              "      <th>6359</th>\n",
              "      <td>2.52</td>\n",
              "      <td>TQRMNOVTYHLMNUCDEIJAH00855731</td>\n",
              "      <td>25</td>\n",
              "    </tr>\n",
              "  </tbody>\n",
              "</table>\n",
              "<p>6360 rows × 3 columns</p>\n",
              "</div>"
            ],
            "text/plain": [
              "      ad_equiv_hogar                         CODUSU CH06\n",
              "0               1.37  TQRMNOTUUHJMLPCDEIIAD00801670   76\n",
              "1               1.37  TQRMNOTUUHJMLPCDEIIAD00801670   79\n",
              "2               5.64  TQRMNOPUUHJKLQCDEIIAD00793187   65\n",
              "3               5.64  TQRMNOPUUHJKLQCDEIIAD00793187   66\n",
              "4               2.82  TQRMNOPUTHKLMNCDEIIAD00791268   49\n",
              "...              ...                            ...  ...\n",
              "6355            2.43  TQRMNOSRQHLMNSCDEIJAH00855730   39\n",
              "6356            2.43  TQRMNOSRQHLMNSCDEIJAH00855730    7\n",
              "6357            2.52  TQRMNOVTYHLMNUCDEIJAH00855731   67\n",
              "6358            2.52  TQRMNOVTYHLMNUCDEIJAH00855731   67\n",
              "6359            2.52  TQRMNOVTYHLMNUCDEIJAH00855731   25\n",
              "\n",
              "[6360 rows x 3 columns]"
            ]
          },
          "execution_count": 10,
          "metadata": {},
          "output_type": "execute_result"
        }
      ],
      "source": [
        "eph = eph.assign(ad_equiv_hogar=eph.groupby('CODUSU')['adulto_equiv'].transform('sum'))\n",
        "eph[['ad_equiv_hogar', 'CODUSU', 'CH06']]"
      ]
    },
    {
      "cell_type": "markdown",
      "metadata": {},
      "source": [
        "## Ejercicio 3\n",
        "Dividimos la base de datos eph en dos: 'respondieron' y 'norespondieron"
      ]
    },
    {
      "cell_type": "code",
      "execution_count": 11,
      "metadata": {
        "colab": {
          "base_uri": "https://localhost:8080/"
        },
        "id": "Z5FxWl0k2k4A",
        "outputId": "d36ca3b4-091c-46db-af00-9f775c8a18b8"
      },
      "outputs": [
        {
          "name": "stdout",
          "output_type": "stream",
          "text": [
            "La cantidad de personas que no respondieron cual es su ingreso familiar es 2005\n",
            " obs en norespondieron 2005 \n",
            " obs en respondieron 4355 \n",
            " check: suma de ambas = 6360 , total = 6360\n"
          ]
        }
      ],
      "source": [
        "respondieron=eph[eph['ITF'] != 0].reset_index(drop=True)\n",
        "respondieron['ITF']\n",
        "norespondieron=eph[eph['ITF']==0].reset_index(drop=True)\n",
        "print(f\"La cantidad de personas que no respondieron cual es su ingreso familiar es {len(eph[eph['ITF']==0])}\")\n",
        "print(\" obs en norespondieron\", norespondieron.shape[0], \"\\n\", \n",
        "      \"obs en respondieron\", respondieron.shape[0], \"\\n\",\n",
        "      \"check: suma de ambas =\", respondieron.shape[0]+norespondieron.shape[0], \", total =\",  eph.shape[0])"
      ]
    },
    {
      "cell_type": "markdown",
      "metadata": {},
      "source": [
        "## Ejercicio 4\n",
        "Agregamos a la base respondieron la columna 'ingreso_necesario'"
      ]
    },
    {
      "cell_type": "code",
      "execution_count": 12,
      "metadata": {
        "colab": {
          "base_uri": "https://localhost:8080/"
        },
        "collapsed": true,
        "id": "Wxbm-e2jVwh0",
        "outputId": "d24791af-0559-4105-8f34-0a225af6c9bf"
      },
      "outputs": [
        {
          "data": {
            "text/html": [
              "<div>\n",
              "<style scoped>\n",
              "    .dataframe tbody tr th:only-of-type {\n",
              "        vertical-align: middle;\n",
              "    }\n",
              "\n",
              "    .dataframe tbody tr th {\n",
              "        vertical-align: top;\n",
              "    }\n",
              "\n",
              "    .dataframe thead th {\n",
              "        text-align: right;\n",
              "    }\n",
              "</style>\n",
              "<table border=\"1\" class=\"dataframe\">\n",
              "  <thead>\n",
              "    <tr style=\"text-align: right;\">\n",
              "      <th></th>\n",
              "      <th>ingreso_necesario</th>\n",
              "      <th>ITF</th>\n",
              "      <th>CODUSU</th>\n",
              "    </tr>\n",
              "  </thead>\n",
              "  <tbody>\n",
              "    <tr>\n",
              "      <th>0</th>\n",
              "      <td>182009.021</td>\n",
              "      <td>450000</td>\n",
              "      <td>TQRMNOTUUHJMLPCDEIIAD00801670</td>\n",
              "    </tr>\n",
              "    <tr>\n",
              "      <th>1</th>\n",
              "      <td>182009.021</td>\n",
              "      <td>450000</td>\n",
              "      <td>TQRMNOTUUHJMLPCDEIIAD00801670</td>\n",
              "    </tr>\n",
              "    <tr>\n",
              "      <th>2</th>\n",
              "      <td>374646.306</td>\n",
              "      <td>800000</td>\n",
              "      <td>TQRMNOPUTHKLMNCDEIIAD00791268</td>\n",
              "    </tr>\n",
              "    <tr>\n",
              "      <th>3</th>\n",
              "      <td>374646.306</td>\n",
              "      <td>800000</td>\n",
              "      <td>TQRMNOPUTHKLMNCDEIIAD00791268</td>\n",
              "    </tr>\n",
              "    <tr>\n",
              "      <th>4</th>\n",
              "      <td>374646.306</td>\n",
              "      <td>800000</td>\n",
              "      <td>TQRMNOPUTHKLMNCDEIIAD00791268</td>\n",
              "    </tr>\n",
              "    <tr>\n",
              "      <th>...</th>\n",
              "      <td>...</td>\n",
              "      <td>...</td>\n",
              "      <td>...</td>\n",
              "    </tr>\n",
              "    <tr>\n",
              "      <th>4350</th>\n",
              "      <td>322833.519</td>\n",
              "      <td>800000</td>\n",
              "      <td>TQRMNOSRQHLMNSCDEIJAH00855730</td>\n",
              "    </tr>\n",
              "    <tr>\n",
              "      <th>4351</th>\n",
              "      <td>322833.519</td>\n",
              "      <td>800000</td>\n",
              "      <td>TQRMNOSRQHLMNSCDEIJAH00855730</td>\n",
              "    </tr>\n",
              "    <tr>\n",
              "      <th>4352</th>\n",
              "      <td>334790.316</td>\n",
              "      <td>240000</td>\n",
              "      <td>TQRMNOVTYHLMNUCDEIJAH00855731</td>\n",
              "    </tr>\n",
              "    <tr>\n",
              "      <th>4353</th>\n",
              "      <td>334790.316</td>\n",
              "      <td>240000</td>\n",
              "      <td>TQRMNOVTYHLMNUCDEIJAH00855731</td>\n",
              "    </tr>\n",
              "    <tr>\n",
              "      <th>4354</th>\n",
              "      <td>334790.316</td>\n",
              "      <td>240000</td>\n",
              "      <td>TQRMNOVTYHLMNUCDEIJAH00855731</td>\n",
              "    </tr>\n",
              "  </tbody>\n",
              "</table>\n",
              "<p>4355 rows × 3 columns</p>\n",
              "</div>"
            ],
            "text/plain": [
              "      ingreso_necesario     ITF                         CODUSU\n",
              "0            182009.021  450000  TQRMNOTUUHJMLPCDEIIAD00801670\n",
              "1            182009.021  450000  TQRMNOTUUHJMLPCDEIIAD00801670\n",
              "2            374646.306  800000  TQRMNOPUTHKLMNCDEIIAD00791268\n",
              "3            374646.306  800000  TQRMNOPUTHKLMNCDEIIAD00791268\n",
              "4            374646.306  800000  TQRMNOPUTHKLMNCDEIIAD00791268\n",
              "...                 ...     ...                            ...\n",
              "4350         322833.519  800000  TQRMNOSRQHLMNSCDEIJAH00855730\n",
              "4351         322833.519  800000  TQRMNOSRQHLMNSCDEIJAH00855730\n",
              "4352         334790.316  240000  TQRMNOVTYHLMNUCDEIJAH00855731\n",
              "4353         334790.316  240000  TQRMNOVTYHLMNUCDEIJAH00855731\n",
              "4354         334790.316  240000  TQRMNOVTYHLMNUCDEIJAH00855731\n",
              "\n",
              "[4355 rows x 3 columns]"
            ]
          },
          "execution_count": 12,
          "metadata": {},
          "output_type": "execute_result"
        }
      ],
      "source": [
        "respondieron['ingreso_necesario'] = np.nan\n",
        "ingreso_por_adulto= 132853.3\n",
        "respondieron['ingreso_necesario'] = respondieron['ad_equiv_hogar'] * ingreso_por_adulto\n",
        "respondieron[['ingreso_necesario', 'ITF', 'CODUSU']]"
      ]
    },
    {
      "cell_type": "markdown",
      "metadata": {},
      "source": [
        "## Ejercicio 5\n",
        "en la base 'respondieron' agregamos una columna 'pobre'"
      ]
    },
    {
      "cell_type": "code",
      "execution_count": 13,
      "metadata": {
        "colab": {
          "base_uri": "https://localhost:8080/"
        },
        "collapsed": true,
        "id": "7TFGjbhhbvAC",
        "outputId": "5b0a6171-44a8-4e2a-80b7-f4f9b35aeabc"
      },
      "outputs": [
        {
          "name": "stdout",
          "output_type": "stream",
          "text": [
            " pobres entre los que respondieron: 1738 \n",
            " no pobres entre los que respondieron: 2617\n"
          ]
        }
      ],
      "source": [
        "respondieron['pobre'] = np.nan\n",
        "respondieron['pobre'] = 0\n",
        "respondieron.loc[respondieron['ITF'] < respondieron['ingreso_necesario'], 'pobre'] = 1\n",
        "print(\" pobres entre los que respondieron:\", len(respondieron[respondieron['pobre']==1]), \"\\n\",\n",
        "      \"no pobres entre los que respondieron:\", len(respondieron[respondieron['pobre']==0]))"
      ]
    },
    {
      "cell_type": "markdown",
      "metadata": {},
      "source": [
        "# PARTE 2: CLASIFICACIÓN"
      ]
    },
    {
      "cell_type": "markdown",
      "metadata": {},
      "source": [
        "## Ejercicio 1 \n",
        "Eliminamos las variables asociadas al ingreso\n"
      ]
    },
    {
      "cell_type": "code",
      "execution_count": 14,
      "metadata": {},
      "outputs": [
        {
          "name": "stdout",
          "output_type": "stream",
          "text": [
            "antes \n",
            " respondieron (4355, 181) \n",
            " norespondieron (2005, 179) \n",
            "\n",
            "despues \n",
            " respondieron, sin ingresos (4355, 121) \n",
            " norespondieron, sin ingresos (2005, 120)\n"
          ]
        }
      ],
      "source": [
        "# Seleccionamos las variables asociadas al ingreso de los hogares.\n",
        "ingresos_drop = ['IPCF', 'DECCFR', 'IDECCFR', 'RDECCFR', 'GDECCFR', 'PDECCFR', 'ADECCFR', \n",
        "                     'PONDIH', 'PP06A', 'PP06C', 'PP06D', 'PP06E', 'PP06E', 'PP06H', 'PP08D1', \n",
        "                     'PP08D4', 'PP08F1', 'PP08F2', 'PP08J1', 'PP08J2', 'PP08J3', \"P21\", 'DECOCUR', \n",
        "                     'IDECOCUR', 'RDECOCUR', 'GDECOCUR', 'PDECOCUR', 'ADECOCUR', 'PONDIIO', 'TOT_P12', \n",
        "                     'P47T', 'DECINDR', 'IDECINDR', 'RDECINDR', 'GDECINDR', 'PDECINDR', 'ADECINDR', 'PONDII', \n",
        "                     'V2_M', 'V2_M', 'V3_M', 'V4_M', 'V5_M', 'V8_M', 'V9_M', 'V10_M', 'V11_M', 'V12_M', 'V18_M', \n",
        "                     'V19_AM', 'V21_M', 'T_VI', 'ITF', 'DECIFR', 'IDECIFR', 'RDECIFR', 'GDECIFR', 'PDECIFR', \n",
        "                     'ADECIFR', 'adulto_equiv', 'ad_equiv_hogar', \n",
        "                     'ingreso_necesario'] # esta está solo en la base 'respondieron'\n",
        "\n",
        "print(\n",
        "    \"antes\", \"\\n\",\n",
        "    \"respondieron\", respondieron.shape, \"\\n\",                               \n",
        "    # respondieron tiene 2 columnas más porque agregamos 'ingreso necesario' y 'pobre'\n",
        "    \"norespondieron\", norespondieron.shape, \"\\n\",\n",
        ")\n",
        "\n",
        "# eliminamos columnas de ingresos de cada base de datos\n",
        "respondieron = respondieron.drop(columns=[i for i in ingresos_drop if i in respondieron])\n",
        "norespondieron = norespondieron.drop(columns=[i for i in ingresos_drop if i in norespondieron])\n",
        "\n",
        "print(\n",
        "    \"despues\", \"\\n\",\n",
        "    \"respondieron, sin ingresos\",  respondieron.shape, \"\\n\",\n",
        "    # despues de eliminar las columnas de ingreso respondieron queda con una columna más porque tiene 'pobre'\n",
        "    \n",
        "    \"norespondieron, sin ingresos\", norespondieron.shape\n",
        ")"
      ]
    },
    {
      "cell_type": "markdown",
      "metadata": {},
      "source": [
        "## Ejercicio 2 \n",
        "Testing and Training Data"
      ]
    },
    {
      "cell_type": "code",
      "execution_count": 15,
      "metadata": {},
      "outputs": [],
      "source": [
        "#Añadimos la columna de 1\n",
        "respondieron['Unos'] = 1"
      ]
    },
    {
      "cell_type": "code",
      "execution_count": 16,
      "metadata": {},
      "outputs": [
        {
          "name": "stdout",
          "output_type": "stream",
          "text": [
            "[(0, 'COMPONENTE'), (0, 'H15'), (0, 'REGION'), (0, 'AGLOMERADO'), (0, 'PONDERA'), (0, 'CH03'), (0, 'CH04'), (0, 'CH06'), (0, 'CH07'), (0, 'CH08'), (0, 'CH09'), (0, 'CH10'), (0, 'CH11'), (0, 'CH12'), (0, 'CH13'), (2178, 'CH14'), (0, 'CH15'), (3517, 'CH15_COD'), (0, 'CH16'), (4267, 'CH16_COD'), (0, 'NIVEL_ED'), (0, 'ESTADO'), (0, 'CAT_OCUP'), (0, 'CAT_INAC'), (4344, 'IMPUTA'), (0, 'PP02C1'), (0, 'PP02C2'), (0, 'PP02C3'), (0, 'PP02C4'), (0, 'PP02C5'), (0, 'PP02C6'), (0, 'PP02C7'), (0, 'PP02C8'), (0, 'PP02E'), (0, 'PP02H'), (0, 'PP02I'), (2326, 'PP03C'), (2326, 'PP03D'), (2326, 'PP3E_TOT'), (2326, 'PP3F_TOT'), (2326, 'PP03G'), (2326, 'PP03H'), (2326, 'PP03I'), (2326, 'PP03J'), (2326, 'INTENSI'), (2326, 'PP04A'), (2326, 'PP04B_COD'), (2326, 'PP04B1'), (2326, 'PP04B2'), (2326, 'PP04B3_MES'), (2326, 'PP04B3_ANO'), (2326, 'PP04B3_DIA'), (2326, 'PP04C'), (2326, 'PP04C99'), (2326, 'PP04D_COD'), (2326, 'PP04G'), (2326, 'PP05B2_MES'), (2326, 'PP05B2_ANO'), (2326, 'PP05B2_DIA'), (2326, 'PP05C_1'), (2326, 'PP05C_2'), (2326, 'PP05C_3'), (2326, 'PP05E'), (2326, 'PP05F'), (2326, 'PP05H'), (2326, 'PP07A'), (2326, 'PP07C'), (2326, 'PP07D'), (2326, 'PP07E'), (2326, 'PP07F1'), (2326, 'PP07F2'), (2326, 'PP07F3'), (2326, 'PP07F4'), (2326, 'PP07F5'), (2326, 'PP07G1'), (2326, 'PP07G2'), (2326, 'PP07G3'), (2326, 'PP07G4'), (2326, 'PP07G_59'), (2326, 'PP07H'), (2326, 'PP07I'), (2326, 'PP07J'), (2326, 'PP07K'), (2326, 'PP09A'), (2326, 'PP09B'), (2326, 'PP09C'), (4355, 'PP09C_ESP'), (4217, 'PP10A'), (4217, 'PP10C'), (4217, 'PP10D'), (4217, 'PP10E'), (4217, 'PP11A'), (4217, 'PP11B_COD'), (4217, 'PP11B1'), (4217, 'PP11B2_MES'), (4217, 'PP11B2_ANO'), (4217, 'PP11B2_DIA'), (4217, 'PP11C'), (4217, 'PP11C99'), (4257, 'PP11D_COD'), (4217, 'PP11G_ANO'), (4217, 'PP11G_MES'), (4217, 'PP11G_DIA'), (4217, 'PP11L'), (4217, 'PP11L1'), (4217, 'PP11M'), (4217, 'PP11N'), (4217, 'PP11O'), (4217, 'PP11P'), (4217, 'PP11Q'), (4217, 'PP11R'), (4217, 'PP11S'), (4217, 'PP11T'), (0, 'Unos')]\n",
            "[(0, 'COMPONENTE'), (0, 'H15'), (0, 'REGION'), (0, 'AGLOMERADO'), (0, 'PONDERA'), (0, 'CH03'), (0, 'CH04'), (0, 'CH06'), (0, 'CH07'), (0, 'CH08'), (0, 'CH09'), (0, 'CH10'), (0, 'CH11'), (0, 'CH12'), (0, 'CH13'), (0, 'CH14'), (0, 'CH15'), (0, 'CH15_COD'), (0, 'CH16'), (0, 'CH16_COD'), (0, 'NIVEL_ED'), (0, 'ESTADO'), (0, 'CAT_OCUP'), (0, 'CAT_INAC'), (0, 'IMPUTA'), (0, 'PP02C1'), (0, 'PP02C2'), (0, 'PP02C3'), (0, 'PP02C4'), (0, 'PP02C5'), (0, 'PP02C6'), (0, 'PP02C7'), (0, 'PP02C8'), (0, 'PP02E'), (0, 'PP02H'), (0, 'PP02I'), (0, 'PP03C'), (0, 'PP03D'), (0, 'PP3E_TOT'), (0, 'PP3F_TOT'), (0, 'PP03G'), (0, 'PP03H'), (0, 'PP03I'), (0, 'PP03J'), (0, 'INTENSI'), (0, 'PP04A'), (0, 'PP04B_COD'), (0, 'PP04B1'), (0, 'PP04B2'), (0, 'PP04B3_MES'), (0, 'PP04B3_ANO'), (0, 'PP04B3_DIA'), (0, 'PP04C'), (0, 'PP04C99'), (0, 'PP04D_COD'), (0, 'PP04G'), (0, 'PP05B2_MES'), (0, 'PP05B2_ANO'), (0, 'PP05B2_DIA'), (0, 'PP05C_1'), (0, 'PP05C_2'), (0, 'PP05C_3'), (0, 'PP05E'), (0, 'PP05F'), (0, 'PP05H'), (0, 'PP07A'), (0, 'PP07C'), (0, 'PP07D'), (0, 'PP07E'), (0, 'PP07F1'), (0, 'PP07F2'), (0, 'PP07F3'), (0, 'PP07F4'), (0, 'PP07F5'), (0, 'PP07G1'), (0, 'PP07G2'), (0, 'PP07G3'), (0, 'PP07G4'), (0, 'PP07G_59'), (0, 'PP07H'), (0, 'PP07I'), (0, 'PP07J'), (0, 'PP07K'), (0, 'PP09A'), (0, 'PP09B'), (0, 'PP09C'), (0, 'PP09C_ESP'), (0, 'PP10A'), (0, 'PP10C'), (0, 'PP10D'), (0, 'PP10E'), (0, 'PP11A'), (0, 'PP11B_COD'), (0, 'PP11B1'), (0, 'PP11B2_MES'), (0, 'PP11B2_ANO'), (0, 'PP11B2_DIA'), (0, 'PP11C'), (0, 'PP11C99'), (0, 'PP11D_COD'), (0, 'PP11G_ANO'), (0, 'PP11G_MES'), (0, 'PP11G_DIA'), (0, 'PP11L'), (0, 'PP11L1'), (0, 'PP11M'), (0, 'PP11N'), (0, 'PP11O'), (0, 'PP11P'), (0, 'PP11Q'), (0, 'PP11R'), (0, 'PP11S'), (0, 'PP11T'), (0, 'Unos')]\n"
          ]
        }
      ],
      "source": [
        "# creamos la matriz de variables independientes\n",
        "# le sacamos 'pobre' porque es la dependiente\n",
        "# tambien sacamos otras que causan problemas por su formato y no son relevantes como predictores \n",
        "X = respondieron.drop(['pobre',       # variable dependiente\n",
        "                      'ANO4',         # columna con '2023' en todas las observaciones\n",
        "                      'TRIMESTRE',    # columna con '4' en todas las observaciones\n",
        "                      'CODUSU',       # string de codigo\n",
        "                      'NRO_HOGAR',    # mismo que el codigo de hogar     \n",
        "                      'MAS_500',      # columna con 'S' en todas las observaciones\n",
        "                      'PP09A_ESP',    # follow-up con lugar especifico\n",
        "                      'CH05'],        # fecha de nacimiento\n",
        "                       axis=1)\n",
        "\n",
        "\n",
        "# hay un tema con que muchas preguntas no se respondieron y son NaN asi que esos NaN los cambiamos a 0:\n",
        "# (printeamos la cantidad de NaN en cada columna)\n",
        "print( [ (X[i].isna().sum(), i) for i in X.columns])\n",
        "X = X.fillna(0)\n",
        "print([(X[i].isna().sum(), i) for i in X.columns]) # muchas son por ejemplo, follow ups de la pregunta anterior\n",
        "\n",
        "# definimos la variable dependiente\n",
        "y = respondieron['pobre']\n",
        "\n",
        "#Partimos la base en 70% para entrenamiento y 30% para testeo,\n",
        "X_train, X_test, y_train, y_test = train_test_split(X, y, test_size=0.3, random_state=101)\n"
      ]
    },
    {
      "cell_type": "markdown",
      "metadata": {},
      "source": [
        "## Ejercicio 3 \n",
        "Métodos de predicción"
      ]
    },
    {
      "cell_type": "markdown",
      "metadata": {},
      "source": [
        "### Regresión Logística"
      ]
    },
    {
      "cell_type": "code",
      "execution_count": 17,
      "metadata": {},
      "outputs": [],
      "source": [
        "from sklearn.pipeline import make_pipeline\n",
        "from sklearn.preprocessing import StandardScaler\n",
        "\n",
        "# Creamos un pipeline que escala los datos y luego ajusta el modelo\n",
        "pipeline = make_pipeline(StandardScaler(), LogisticRegression(penalty=None, max_iter=1000))\n",
        "\n",
        "# Ajustamos el modelo de regresion logistica a los datos escalados\n",
        "pipeline.fit(X_train, y_train)\n",
        "\n",
        "# Estimamos las probabilidades\n",
        "y_test_pred_score = pipeline.predict_proba(X_test)[:, 1]\n",
        "\n",
        "# Asignamos 0 y 1 con threshold 0.5\n",
        "y_test_pred = pipeline.predict(X_test)"
      ]
    },
    {
      "cell_type": "code",
      "execution_count": 18,
      "metadata": {},
      "outputs": [
        {
          "name": "stdout",
          "output_type": "stream",
          "text": [
            "AUC: 0.7832\n"
          ]
        }
      ],
      "source": [
        "#AUC y ROC\n",
        "auc = roc_auc_score(y_test, y_test_pred_score)\n",
        "print('AUC: %.4f' % auc)\n",
        "fpr, tpr, thresholds = roc_curve(y_test, y_test_pred_score)"
      ]
    },
    {
      "cell_type": "code",
      "execution_count": 19,
      "metadata": {},
      "outputs": [
        {
          "data": {
            "image/png": "[encoded data removed]",
            "text/plain": [
              "<Figure size 640x480 with 1 Axes>"
            ]
          },
          "metadata": {},
          "output_type": "display_data"
        }
      ],
      "source": [
        "display = RocCurveDisplay(fpr=fpr, tpr=tpr, roc_auc=auc, estimator_name='Reg_log')\n",
        "display.plot()\n",
        "plt.plot([0, 1], [0, 1], color='red', linestyle='--')\n",
        "plt.show()"
      ]
    },
    {
      "cell_type": "code",
      "execution_count": 20,
      "metadata": {},
      "outputs": [
        {
          "name": "stdout",
          "output_type": "stream",
          "text": [
            "Confusion Matrix:\n",
            "[[630 139]\n",
            " [196 342]]\n",
            "Accuracy Score: 0.7436878347360367\n"
          ]
        }
      ],
      "source": [
        "#Matriz de confusión\n",
        "matriz_confusion_logit = confusion_matrix(y_test, y_test_pred)\n",
        "\n",
        "print('Confusion Matrix:')\n",
        "print(matriz_confusion_logit)\n",
        "print('Accuracy Score:', accuracy_score(y_test, y_test_pred))"
      ]
    },
    {
      "cell_type": "code",
      "execution_count": 21,
      "metadata": {},
      "outputs": [
        {
          "name": "stdout",
          "output_type": "stream",
          "text": [
            "Accuracy: 0.743688\n"
          ]
        }
      ],
      "source": [
        "# Accuracy: (tp + tn) / (p + n)\n",
        "accuracy = accuracy_score(y_test, y_test_pred)\n",
        "print('Accuracy: %f' % accuracy)"
      ]
    },
    {
      "cell_type": "markdown",
      "metadata": {},
      "source": [
        "### Análisis discriminante lineal"
      ]
    },
    {
      "cell_type": "code",
      "execution_count": 22,
      "metadata": {},
      "outputs": [],
      "source": [
        "lda = LinearDiscriminantAnalysis(n_components=1) # un component porque tenemos 2 clases dependientes\n",
        "lda = lda.fit(X_train, y_train)\n",
        "X_r = lda.transform(X_train)                     "
      ]
    },
    {
      "cell_type": "code",
      "execution_count": 23,
      "metadata": {},
      "outputs": [],
      "source": [
        "y_test_pred_lda = lda.predict(X_test)"
      ]
    },
    {
      "cell_type": "code",
      "execution_count": 24,
      "metadata": {},
      "outputs": [
        {
          "name": "stdout",
          "output_type": "stream",
          "text": [
            "AUC: 0.7832\n"
          ]
        }
      ],
      "source": [
        "#Curva de ROC y AUC\n",
        "auc_LDA = roc_auc_score(y_test, y_test_pred_lda)\n",
        "print('AUC: %.4f' % auc)\n",
        "fpr, tpr, thresholds = roc_curve(y_test, y_test_pred_lda)"
      ]
    },
    {
      "cell_type": "code",
      "execution_count": 25,
      "metadata": {},
      "outputs": [
        {
          "data": {
            "image/png": "[encoded data removed]",
            "text/plain": [
              "<Figure size 640x480 with 1 Axes>"
            ]
          },
          "metadata": {},
          "output_type": "display_data"
        }
      ],
      "source": [
        "display = RocCurveDisplay(fpr=fpr, tpr=tpr, roc_auc=auc_LDA, estimator_name='LDA')\n",
        "display.plot()\n",
        "plt.plot([0, 1], [0, 1], color='red', linestyle='--')\n",
        "plt.show()"
      ]
    },
    {
      "cell_type": "code",
      "execution_count": 26,
      "metadata": {},
      "outputs": [
        {
          "name": "stdout",
          "output_type": "stream",
          "text": [
            "La exactitud del modelo es: 0.74\n"
          ]
        }
      ],
      "source": [
        "#Acurracy\n",
        "accuracy_lda = accuracy_score(y_test, y_test_pred_lda)\n",
        "print(\"La exactitud del modelo es: %.2f\" %accuracy_lda)"
      ]
    },
    {
      "cell_type": "code",
      "execution_count": 27,
      "metadata": {},
      "outputs": [
        {
          "name": "stdout",
          "output_type": "stream",
          "text": [
            "Confusion Matrix:\n",
            "[[623 146]\n",
            " [197 341]]\n",
            "Accuracy Score: 0.7375669472073451\n"
          ]
        }
      ],
      "source": [
        "#Matriz de confusión\n",
        "matriz_confusion_LDA = confusion_matrix(y_test, y_test_pred_lda)\n",
        "\n",
        "print('Confusion Matrix:')\n",
        "print(matriz_confusion_LDA)\n",
        "print('Accuracy Score:', accuracy_score(y_test, y_test_pred_lda))"
      ]
    },
    {
      "cell_type": "markdown",
      "metadata": {},
      "source": [
        "### KNN con k = 3"
      ]
    },
    {
      "cell_type": "code",
      "execution_count": 28,
      "metadata": {},
      "outputs": [
        {
          "data": {
            "text/html": [
              "<style>#sk-container-id-1 {\n",
              "  /* Definition of color scheme common for light and dark mode */\n",
              "  --sklearn-color-text: black;\n",
              "  --sklearn-color-line: gray;\n",
              "  /* Definition of color scheme for unfitted estimators */\n",
              "  --sklearn-color-unfitted-level-0: #fff5e6;\n",
              "  --sklearn-color-unfitted-level-1: #f6e4d2;\n",
              "  --sklearn-color-unfitted-level-2: #ffe0b3;\n",
              "  --sklearn-color-unfitted-level-3: chocolate;\n",
              "  /* Definition of color scheme for fitted estimators */\n",
              "  --sklearn-color-fitted-level-0: #f0f8ff;\n",
              "  --sklearn-color-fitted-level-1: #d4ebff;\n",
              "  --sklearn-color-fitted-level-2: #b3dbfd;\n",
              "  --sklearn-color-fitted-level-3: cornflowerblue;\n",
              "\n",
              "  /* Specific color for light theme */\n",
              "  --sklearn-color-text-on-default-background: var(--sg-text-color, var(--theme-code-foreground, var(--jp-content-font-color1, black)));\n",
              "  --sklearn-color-background: var(--sg-background-color, var(--theme-background, var(--jp-layout-color0, white)));\n",
              "  --sklearn-color-border-box: var(--sg-text-color, var(--theme-code-foreground, var(--jp-content-font-color1, black)));\n",
              "  --sklearn-color-icon: #696969;\n",
              "\n",
              "  @media (prefers-color-scheme: dark) {\n",
              "    /* Redefinition of color scheme for dark theme */\n",
              "    --sklearn-color-text-on-default-background: var(--sg-text-color, var(--theme-code-foreground, var(--jp-content-font-color1, white)));\n",
              "    --sklearn-color-background: var(--sg-background-color, var(--theme-background, var(--jp-layout-color0, #111)));\n",
              "    --sklearn-color-border-box: var(--sg-text-color, var(--theme-code-foreground, var(--jp-content-font-color1, white)));\n",
              "    --sklearn-color-icon: #878787;\n",
              "  }\n",
              "}\n",
              "\n",
              "#sk-container-id-1 {\n",
              "  color: var(--sklearn-color-text);\n",
              "}\n",
              "\n",
              "#sk-container-id-1 pre {\n",
              "  padding: 0;\n",
              "}\n",
              "\n",
              "#sk-container-id-1 input.sk-hidden--visually {\n",
              "  border: 0;\n",
              "  clip: rect(1px 1px 1px 1px);\n",
              "  clip: rect(1px, 1px, 1px, 1px);\n",
              "  height: 1px;\n",
              "  margin: -1px;\n",
              "  overflow: hidden;\n",
              "  padding: 0;\n",
              "  position: absolute;\n",
              "  width: 1px;\n",
              "}\n",
              "\n",
              "#sk-container-id-1 div.sk-dashed-wrapped {\n",
              "  border: 1px dashed var(--sklearn-color-line);\n",
              "  margin: 0 0.4em 0.5em 0.4em;\n",
              "  box-sizing: border-box;\n",
              "  padding-bottom: 0.4em;\n",
              "  background-color: var(--sklearn-color-background);\n",
              "}\n",
              "\n",
              "#sk-container-id-1 div.sk-container {\n",
              "  /* jupyter's `normalize.less` sets `[hidden] { display: none; }`\n",
              "     but bootstrap.min.css set `[hidden] { display: none !important; }`\n",
              "     so we also need the `!important` here to be able to override the\n",
              "     default hidden behavior on the sphinx rendered scikit-learn.org.\n",
              "     See: https://github.com/scikit-learn/scikit-learn/issues/21755 */\n",
              "  display: inline-block !important;\n",
              "  position: relative;\n",
              "}\n",
              "\n",
              "#sk-container-id-1 div.sk-text-repr-fallback {\n",
              "  display: none;\n",
              "}\n",
              "\n",
              "div.sk-parallel-item,\n",
              "div.sk-serial,\n",
              "div.sk-item {\n",
              "  /* draw centered vertical line to link estimators */\n",
              "  background-image: linear-gradient(var(--sklearn-color-text-on-default-background), var(--sklearn-color-text-on-default-background));\n",
              "  background-size: 2px 100%;\n",
              "  background-repeat: no-repeat;\n",
              "  background-position: center center;\n",
              "}\n",
              "\n",
              "/* Parallel-specific style estimator block */\n",
              "\n",
              "#sk-container-id-1 div.sk-parallel-item::after {\n",
              "  content: \"\";\n",
              "  width: 100%;\n",
              "  border-bottom: 2px solid var(--sklearn-color-text-on-default-background);\n",
              "  flex-grow: 1;\n",
              "}\n",
              "\n",
              "#sk-container-id-1 div.sk-parallel {\n",
              "  display: flex;\n",
              "  align-items: stretch;\n",
              "  justify-content: center;\n",
              "  background-color: var(--sklearn-color-background);\n",
              "  position: relative;\n",
              "}\n",
              "\n",
              "#sk-container-id-1 div.sk-parallel-item {\n",
              "  display: flex;\n",
              "  flex-direction: column;\n",
              "}\n",
              "\n",
              "#sk-container-id-1 div.sk-parallel-item:first-child::after {\n",
              "  align-self: flex-end;\n",
              "  width: 50%;\n",
              "}\n",
              "\n",
              "#sk-container-id-1 div.sk-parallel-item:last-child::after {\n",
              "  align-self: flex-start;\n",
              "  width: 50%;\n",
              "}\n",
              "\n",
              "#sk-container-id-1 div.sk-parallel-item:only-child::after {\n",
              "  width: 0;\n",
              "}\n",
              "\n",
              "/* Serial-specific style estimator block */\n",
              "\n",
              "#sk-container-id-1 div.sk-serial {\n",
              "  display: flex;\n",
              "  flex-direction: column;\n",
              "  align-items: center;\n",
              "  background-color: var(--sklearn-color-background);\n",
              "  padding-right: 1em;\n",
              "  padding-left: 1em;\n",
              "}\n",
              "\n",
              "\n",
              "/* Toggleable style: style used for estimator/Pipeline/ColumnTransformer box that is\n",
              "clickable and can be expanded/collapsed.\n",
              "- Pipeline and ColumnTransformer use this feature and define the default style\n",
              "- Estimators will overwrite some part of the style using the `sk-estimator` class\n",
              "*/\n",
              "\n",
              "/* Pipeline and ColumnTransformer style (default) */\n",
              "\n",
              "#sk-container-id-1 div.sk-toggleable {\n",
              "  /* Default theme specific background. It is overwritten whether we have a\n",
              "  specific estimator or a Pipeline/ColumnTransformer */\n",
              "  background-color: var(--sklearn-color-background);\n",
              "}\n",
              "\n",
              "/* Toggleable label */\n",
              "#sk-container-id-1 label.sk-toggleable__label {\n",
              "  cursor: pointer;\n",
              "  display: block;\n",
              "  width: 100%;\n",
              "  margin-bottom: 0;\n",
              "  padding: 0.5em;\n",
              "  box-sizing: border-box;\n",
              "  text-align: center;\n",
              "}\n",
              "\n",
              "#sk-container-id-1 label.sk-toggleable__label-arrow:before {\n",
              "  /* Arrow on the left of the label */\n",
              "  content: \"▸\";\n",
              "  float: left;\n",
              "  margin-right: 0.25em;\n",
              "  color: var(--sklearn-color-icon);\n",
              "}\n",
              "\n",
              "#sk-container-id-1 label.sk-toggleable__label-arrow:hover:before {\n",
              "  color: var(--sklearn-color-text);\n",
              "}\n",
              "\n",
              "/* Toggleable content - dropdown */\n",
              "\n",
              "#sk-container-id-1 div.sk-toggleable__content {\n",
              "  max-height: 0;\n",
              "  max-width: 0;\n",
              "  overflow: hidden;\n",
              "  text-align: left;\n",
              "  /* unfitted */\n",
              "  background-color: var(--sklearn-color-unfitted-level-0);\n",
              "}\n",
              "\n",
              "#sk-container-id-1 div.sk-toggleable__content.fitted {\n",
              "  /* fitted */\n",
              "  background-color: var(--sklearn-color-fitted-level-0);\n",
              "}\n",
              "\n",
              "#sk-container-id-1 div.sk-toggleable__content pre {\n",
              "  margin: 0.2em;\n",
              "  border-radius: 0.25em;\n",
              "  color: var(--sklearn-color-text);\n",
              "  /* unfitted */\n",
              "  background-color: var(--sklearn-color-unfitted-level-0);\n",
              "}\n",
              "\n",
              "#sk-container-id-1 div.sk-toggleable__content.fitted pre {\n",
              "  /* unfitted */\n",
              "  background-color: var(--sklearn-color-fitted-level-0);\n",
              "}\n",
              "\n",
              "#sk-container-id-1 input.sk-toggleable__control:checked~div.sk-toggleable__content {\n",
              "  /* Expand drop-down */\n",
              "  max-height: 200px;\n",
              "  max-width: 100%;\n",
              "  overflow: auto;\n",
              "}\n",
              "\n",
              "#sk-container-id-1 input.sk-toggleable__control:checked~label.sk-toggleable__label-arrow:before {\n",
              "  content: \"▾\";\n",
              "}\n",
              "\n",
              "/* Pipeline/ColumnTransformer-specific style */\n",
              "\n",
              "#sk-container-id-1 div.sk-label input.sk-toggleable__control:checked~label.sk-toggleable__label {\n",
              "  color: var(--sklearn-color-text);\n",
              "  background-color: var(--sklearn-color-unfitted-level-2);\n",
              "}\n",
              "\n",
              "#sk-container-id-1 div.sk-label.fitted input.sk-toggleable__control:checked~label.sk-toggleable__label {\n",
              "  background-color: var(--sklearn-color-fitted-level-2);\n",
              "}\n",
              "\n",
              "/* Estimator-specific style */\n",
              "\n",
              "/* Colorize estimator box */\n",
              "#sk-container-id-1 div.sk-estimator input.sk-toggleable__control:checked~label.sk-toggleable__label {\n",
              "  /* unfitted */\n",
              "  background-color: var(--sklearn-color-unfitted-level-2);\n",
              "}\n",
              "\n",
              "#sk-container-id-1 div.sk-estimator.fitted input.sk-toggleable__control:checked~label.sk-toggleable__label {\n",
              "  /* fitted */\n",
              "  background-color: var(--sklearn-color-fitted-level-2);\n",
              "}\n",
              "\n",
              "#sk-container-id-1 div.sk-label label.sk-toggleable__label,\n",
              "#sk-container-id-1 div.sk-label label {\n",
              "  /* The background is the default theme color */\n",
              "  color: var(--sklearn-color-text-on-default-background);\n",
              "}\n",
              "\n",
              "/* On hover, darken the color of the background */\n",
              "#sk-container-id-1 div.sk-label:hover label.sk-toggleable__label {\n",
              "  color: var(--sklearn-color-text);\n",
              "  background-color: var(--sklearn-color-unfitted-level-2);\n",
              "}\n",
              "\n",
              "/* Label box, darken color on hover, fitted */\n",
              "#sk-container-id-1 div.sk-label.fitted:hover label.sk-toggleable__label.fitted {\n",
              "  color: var(--sklearn-color-text);\n",
              "  background-color: var(--sklearn-color-fitted-level-2);\n",
              "}\n",
              "\n",
              "/* Estimator label */\n",
              "\n",
              "#sk-container-id-1 div.sk-label label {\n",
              "  font-family: monospace;\n",
              "  font-weight: bold;\n",
              "  display: inline-block;\n",
              "  line-height: 1.2em;\n",
              "}\n",
              "\n",
              "#sk-container-id-1 div.sk-label-container {\n",
              "  text-align: center;\n",
              "}\n",
              "\n",
              "/* Estimator-specific */\n",
              "#sk-container-id-1 div.sk-estimator {\n",
              "  font-family: monospace;\n",
              "  border: 1px dotted var(--sklearn-color-border-box);\n",
              "  border-radius: 0.25em;\n",
              "  box-sizing: border-box;\n",
              "  margin-bottom: 0.5em;\n",
              "  /* unfitted */\n",
              "  background-color: var(--sklearn-color-unfitted-level-0);\n",
              "}\n",
              "\n",
              "#sk-container-id-1 div.sk-estimator.fitted {\n",
              "  /* fitted */\n",
              "  background-color: var(--sklearn-color-fitted-level-0);\n",
              "}\n",
              "\n",
              "/* on hover */\n",
              "#sk-container-id-1 div.sk-estimator:hover {\n",
              "  /* unfitted */\n",
              "  background-color: var(--sklearn-color-unfitted-level-2);\n",
              "}\n",
              "\n",
              "#sk-container-id-1 div.sk-estimator.fitted:hover {\n",
              "  /* fitted */\n",
              "  background-color: var(--sklearn-color-fitted-level-2);\n",
              "}\n",
              "\n",
              "/* Specification for estimator info (e.g. \"i\" and \"?\") */\n",
              "\n",
              "/* Common style for \"i\" and \"?\" */\n",
              "\n",
              ".sk-estimator-doc-link,\n",
              "a:link.sk-estimator-doc-link,\n",
              "a:visited.sk-estimator-doc-link {\n",
              "  float: right;\n",
              "  font-size: smaller;\n",
              "  line-height: 1em;\n",
              "  font-family: monospace;\n",
              "  background-color: var(--sklearn-color-background);\n",
              "  border-radius: 1em;\n",
              "  height: 1em;\n",
              "  width: 1em;\n",
              "  text-decoration: none !important;\n",
              "  margin-left: 1ex;\n",
              "  /* unfitted */\n",
              "  border: var(--sklearn-color-unfitted-level-1) 1pt solid;\n",
              "  color: var(--sklearn-color-unfitted-level-1);\n",
              "}\n",
              "\n",
              ".sk-estimator-doc-link.fitted,\n",
              "a:link.sk-estimator-doc-link.fitted,\n",
              "a:visited.sk-estimator-doc-link.fitted {\n",
              "  /* fitted */\n",
              "  border: var(--sklearn-color-fitted-level-1) 1pt solid;\n",
              "  color: var(--sklearn-color-fitted-level-1);\n",
              "}\n",
              "\n",
              "/* On hover */\n",
              "div.sk-estimator:hover .sk-estimator-doc-link:hover,\n",
              ".sk-estimator-doc-link:hover,\n",
              "div.sk-label-container:hover .sk-estimator-doc-link:hover,\n",
              ".sk-estimator-doc-link:hover {\n",
              "  /* unfitted */\n",
              "  background-color: var(--sklearn-color-unfitted-level-3);\n",
              "  color: var(--sklearn-color-background);\n",
              "  text-decoration: none;\n",
              "}\n",
              "\n",
              "div.sk-estimator.fitted:hover .sk-estimator-doc-link.fitted:hover,\n",
              ".sk-estimator-doc-link.fitted:hover,\n",
              "div.sk-label-container:hover .sk-estimator-doc-link.fitted:hover,\n",
              ".sk-estimator-doc-link.fitted:hover {\n",
              "  /* fitted */\n",
              "  background-color: var(--sklearn-color-fitted-level-3);\n",
              "  color: var(--sklearn-color-background);\n",
              "  text-decoration: none;\n",
              "}\n",
              "\n",
              "/* Span, style for the box shown on hovering the info icon */\n",
              ".sk-estimator-doc-link span {\n",
              "  display: none;\n",
              "  z-index: 9999;\n",
              "  position: relative;\n",
              "  font-weight: normal;\n",
              "  right: .2ex;\n",
              "  padding: .5ex;\n",
              "  margin: .5ex;\n",
              "  width: min-content;\n",
              "  min-width: 20ex;\n",
              "  max-width: 50ex;\n",
              "  color: var(--sklearn-color-text);\n",
              "  box-shadow: 2pt 2pt 4pt #999;\n",
              "  /* unfitted */\n",
              "  background: var(--sklearn-color-unfitted-level-0);\n",
              "  border: .5pt solid var(--sklearn-color-unfitted-level-3);\n",
              "}\n",
              "\n",
              ".sk-estimator-doc-link.fitted span {\n",
              "  /* fitted */\n",
              "  background: var(--sklearn-color-fitted-level-0);\n",
              "  border: var(--sklearn-color-fitted-level-3);\n",
              "}\n",
              "\n",
              ".sk-estimator-doc-link:hover span {\n",
              "  display: block;\n",
              "}\n",
              "\n",
              "/* \"?\"-specific style due to the `<a>` HTML tag */\n",
              "\n",
              "#sk-container-id-1 a.estimator_doc_link {\n",
              "  float: right;\n",
              "  font-size: 1rem;\n",
              "  line-height: 1em;\n",
              "  font-family: monospace;\n",
              "  background-color: var(--sklearn-color-background);\n",
              "  border-radius: 1rem;\n",
              "  height: 1rem;\n",
              "  width: 1rem;\n",
              "  text-decoration: none;\n",
              "  /* unfitted */\n",
              "  color: var(--sklearn-color-unfitted-level-1);\n",
              "  border: var(--sklearn-color-unfitted-level-1) 1pt solid;\n",
              "}\n",
              "\n",
              "#sk-container-id-1 a.estimator_doc_link.fitted {\n",
              "  /* fitted */\n",
              "  border: var(--sklearn-color-fitted-level-1) 1pt solid;\n",
              "  color: var(--sklearn-color-fitted-level-1);\n",
              "}\n",
              "\n",
              "/* On hover */\n",
              "#sk-container-id-1 a.estimator_doc_link:hover {\n",
              "  /* unfitted */\n",
              "  background-color: var(--sklearn-color-unfitted-level-3);\n",
              "  color: var(--sklearn-color-background);\n",
              "  text-decoration: none;\n",
              "}\n",
              "\n",
              "#sk-container-id-1 a.estimator_doc_link.fitted:hover {\n",
              "  /* fitted */\n",
              "  background-color: var(--sklearn-color-fitted-level-3);\n",
              "}\n",
              "</style><div id=\"sk-container-id-1\" class=\"sk-top-container\"><div class=\"sk-text-repr-fallback\"><pre>KNeighborsClassifier(n_neighbors=3)</pre><b>In a Jupyter environment, please rerun this cell to show the HTML representation or trust the notebook. <br />On GitHub, the HTML representation is unable to render, please try loading this page with nbviewer.org.</b></div><div class=\"sk-container\" hidden><div class=\"sk-item\"><div class=\"sk-estimator fitted sk-toggleable\"><input class=\"sk-toggleable__control sk-hidden--visually\" id=\"sk-estimator-id-1\" type=\"checkbox\" checked><label for=\"sk-estimator-id-1\" class=\"sk-toggleable__label fitted sk-toggleable__label-arrow fitted\">&nbsp;&nbsp;KNeighborsClassifier<a class=\"sk-estimator-doc-link fitted\" rel=\"noreferrer\" target=\"_blank\" href=\"https://scikit-learn.org/1.4/modules/generated/sklearn.neighbors.KNeighborsClassifier.html\">?<span>Documentation for KNeighborsClassifier</span></a><span class=\"sk-estimator-doc-link fitted\">i<span>Fitted</span></span></label><div class=\"sk-toggleable__content fitted\"><pre>KNeighborsClassifier(n_neighbors=3)</pre></div> </div></div></div></div>"
            ],
            "text/plain": [
              "KNeighborsClassifier(n_neighbors=3)"
            ]
          },
          "execution_count": 28,
          "metadata": {},
          "output_type": "execute_result"
        }
      ],
      "source": [
        "#Seleccionamos 3 vecindarios\n",
        "knn = KNeighborsClassifier(n_neighbors=3)\n",
        "knn.fit(X_train, y_train)"
      ]
    },
    {
      "cell_type": "code",
      "execution_count": 29,
      "metadata": {},
      "outputs": [
        {
          "name": "stdout",
          "output_type": "stream",
          "text": [
            "La exactitud del modelo es: 0.677\n"
          ]
        }
      ],
      "source": [
        "y_test_pred_knn = knn.predict(X_test)\n",
        "accuracy_knn = accuracy_score(y_test, y_test_pred_knn)\n",
        "print(\"La exactitud del modelo es: %.3f\" %accuracy_knn)"
      ]
    },
    {
      "cell_type": "code",
      "execution_count": 30,
      "metadata": {},
      "outputs": [
        {
          "name": "stdout",
          "output_type": "stream",
          "text": [
            "AUC: 0.7832\n"
          ]
        }
      ],
      "source": [
        "#Curva de ROC y AUC\n",
        "auc_KNN = roc_auc_score(y_test, y_test_pred_knn)\n",
        "print('AUC: %.4f' % auc)\n",
        "fpr, tpr, thresholds = roc_curve(y_test, y_test_pred_knn)"
      ]
    },
    {
      "cell_type": "code",
      "execution_count": 31,
      "metadata": {},
      "outputs": [
        {
          "data": {
            "image/png": "[encoded data removed]",
            "text/plain": [
              "<Figure size 640x480 with 1 Axes>"
            ]
          },
          "metadata": {},
          "output_type": "display_data"
        }
      ],
      "source": [
        "display = RocCurveDisplay(fpr=fpr, tpr=tpr, roc_auc=auc_KNN, estimator_name='knn')\n",
        "display.plot()\n",
        "plt.plot([0, 1], [0, 1], color='red', linestyle='--')\n",
        "plt.show()"
      ]
    },
    {
      "cell_type": "code",
      "execution_count": 32,
      "metadata": {},
      "outputs": [
        {
          "name": "stdout",
          "output_type": "stream",
          "text": [
            "Confusion Matrix:\n",
            "[[588 181]\n",
            " [241 297]]\n",
            "Accuracy Score: 0.677123182861515\n"
          ]
        }
      ],
      "source": [
        "#Matriz de confusión\n",
        "matriz_confusion_KNN = confusion_matrix(y_test, y_test_pred_knn)\n",
        "\n",
        "print('Confusion Matrix:')\n",
        "print(matriz_confusion_KNN)\n",
        "print('Accuracy Score:', accuracy_score(y_test, y_test_pred_knn))"
      ]
    },
    {
      "cell_type": "markdown",
      "metadata": {},
      "source": [
        "## Ejercicio 4"
      ]
    },
    {
      "cell_type": "markdown",
      "metadata": {},
      "source": [
        "Sabemos que el peor modelo es KNN, lo cual podíamos esperar ya que estamos en un contexto de alta dimensionalidad, que efectivamente está reduciendo el tamaño de la muestra.\n",
        "\n",
        "En cuanto a regresión logistica y discriminante lineal, obtenemos medidas de exactitud similares: 0.748 y 0.75, un poco mejor el discriminante lineal. Luego regresion logistica tiene mayor área debajo de la curva. Dado que la exactitud es casi igual, optamos por regresion logística ya que discriminante lineal impone un supuesto de normalidad que no tenemos suficiente evidencia para apoyar."
      ]
    },
    {
      "cell_type": "markdown",
      "metadata": {},
      "source": [
        "## Ejercicio 5\n",
        "Vamos a aplicar el logit que ajustamos en la base de respondieron ahora con la base de no respondieron"
      ]
    },
    {
      "cell_type": "code",
      "execution_count": 33,
      "metadata": {},
      "outputs": [
        {
          "name": "stdout",
          "output_type": "stream",
          "text": [
            "recordamos que tienen tamaños distintos: \n",
            " respondieron (4355, 122) \n",
            " norespondieron (2005, 120)\n",
            "proporción de pobres en no respondieron: 0.42443890274314217\n"
          ]
        }
      ],
      "source": [
        "print(\"recordamos que tienen tamaños distintos:\", \"\\n\",\n",
        "      \"respondieron\", respondieron.shape, \"\\n\",\n",
        "      \"norespondieron\", norespondieron.shape\n",
        "      )\n",
        "\n",
        "norespondieron['Unos'] = 1     # columna de unos para el intercepto como en respondieron\n",
        "X_norespondieron = norespondieron[[i for i in X.columns]]\n",
        "\n",
        "## resolvemos aca tambien el tema de los NaN\n",
        "X_norespondieron = X_norespondieron.fillna(0)\n",
        "##\n",
        "\n",
        "\n",
        "pred_norespondieron= pipeline.predict(X_norespondieron)\n",
        "print('proporción de pobres en no respondieron:', sum(pred_norespondieron)/len(pred_norespondieron))"
      ]
    },
    {
      "cell_type": "markdown",
      "metadata": {},
      "source": [
        "## Ejercicio 6"
      ]
    },
    {
      "cell_type": "markdown",
      "metadata": {},
      "source": [
        "Las variables de identificacion no tiene mucho sentido incluirlas porque describen la situación de la encuesta. Eliminamos:\n",
        "'COMPONENTE'\n",
        "'H15'\n",
        "'PONDERA'\n",
        "\n",
        "No tiene mucho sentido incluir todas las caracteristicas de los miembros del hogar; pordriamos eliminar algunas que refieren al entrevistado en particular como el paretezco o el estado civil. Eliminamos\n",
        "'CH03'\n",
        "'CH07'\n",
        "'IMPUTA'\n",
        "\n",
        "Despues todas las que tenemos refieren a las ocupaciones, y los tipos de desocupación las cuales deberian predictores utiles de la situacion socioeconomica"
      ]
    },
    {
      "cell_type": "code",
      "execution_count": 34,
      "metadata": {},
      "outputs": [
        {
          "name": "stdout",
          "output_type": "stream",
          "text": [
            "AUC: 0.7784\n",
            "Accuracy nueva: 0.736802\n",
            "Accuracy anterior: 0.743688\n"
          ]
        }
      ],
      "source": [
        "\n",
        "X6 = X.drop([\n",
        "            'COMPONENTE',\n",
        "            'H15',\n",
        "            'PONDERA',\n",
        "            'CH03',\n",
        "            'CH07',\n",
        "            'IMPUTA'],        \n",
        "            axis=1)\n",
        "\n",
        "y = respondieron['pobre']\n",
        "\n",
        "X_train6, X_test6, y_train6, y_test6 = train_test_split(X6, y, test_size=0.3, random_state=101)\n",
        "pipeline.fit(X_train6, y_train6)\n",
        "y_test_pred_score6 = pipeline.predict_proba(X_test6)[:, 1]\n",
        "y_test_pred6 = pipeline.predict(X_test6)\n",
        "auc6 = roc_auc_score(y_test6, y_test_pred_score6)\n",
        "print('AUC: %.4f' % auc6)\n",
        "fpr6, tpr6, thresholds6 = roc_curve(y_test6, y_test_pred_score6)\n",
        "accuracy6 = accuracy_score(y_test6, y_test_pred6)\n",
        "print('Accuracy nueva: %f' % accuracy6)\n",
        "print('Accuracy anterior: %f' % accuracy)"
      ]
    }
  ],
  "metadata": {
    "colab": {
      "provenance": []
    },
    "kernelspec": {
      "display_name": "Python 3",
      "name": "python3"
    },
    "language_info": {
      "codemirror_mode": {
        "name": "ipython",
        "version": 3
      },
      "file_extension": ".py",
      "mimetype": "text/x-python",
      "name": "python",
      "nbconvert_exporter": "python",
      "pygments_lexer": "ipython3",
      "version": "3.12.2"
    }
  },
  "nbformat": 4,
  "nbformat_minor": 0
}
