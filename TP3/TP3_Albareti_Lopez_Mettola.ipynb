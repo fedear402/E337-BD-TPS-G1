{
  "cells": [
    {
      "cell_type": "code",
      "execution_count": 476,
      "metadata": {
        "colab": {
          "base_uri": "https://localhost:8080/"
        },
        "collapsed": true,
        "id": "5sScYieb57NQ",
        "outputId": "755c3397-0793-45c2-9a9f-3fe239543cc2"
      },
      "outputs": [],
      "source": [
        "import pandas as pd\n",
        "import numpy as np\n",
        "import matplotlib.pyplot as plt\n",
        "import seaborn as sns\n",
        "from sklearn import datasets\n",
        "from sklearn.linear_model import LogisticRegression\n",
        "from sklearn.model_selection import train_test_split\n",
        "from sklearn.metrics import confusion_matrix\n",
        "from sklearn.metrics import accuracy_score, recall_score\n",
        "from sklearn.metrics import roc_curve\n",
        "from sklearn.metrics import roc_auc_score\n",
        "from sklearn.metrics import RocCurveDisplay\n",
        "from sklearn.discriminant_analysis import LinearDiscriminantAnalysis\n",
        "from sklearn.neighbors import KNeighborsClassifier"
      ]
    },
    {
      "cell_type": "code",
      "execution_count": 477,
      "metadata": {
        "id": "weQ2EwMO4hLs"
      },
      "outputs": [],
      "source": [
        "# abrimos el documento utilizando Pandas\n",
        "#eph_total = pd.read_excel(\"usu_individual_T423.xlsx\")"
      ]
    },
    {
      "cell_type": "code",
      "execution_count": 478,
      "metadata": {},
      "outputs": [
        {
          "name": "stdout",
          "output_type": "stream",
          "text": [
            "(47337, 177)\n"
          ]
        }
      ],
      "source": [
        "eph = eph_total.copy() # para no tener que importar el excel cada vez porque tarda 20 segundos\n",
        "print(eph.shape)"
      ]
    },
    {
      "cell_type": "markdown",
      "metadata": {
        "id": "q17pbuyXut3N"
      },
      "source": [
        "# PARTE 1\n",
        "\n",
        "## Ejercicio 2.a) dejar CABA y GBA"
      ]
    },
    {
      "cell_type": "code",
      "execution_count": 479,
      "metadata": {
        "id": "WhcOeyfo_L6o"
      },
      "outputs": [
        {
          "data": {
            "text/plain": [
              "(7380, 177)"
            ]
          },
          "execution_count": 479,
          "metadata": {},
          "output_type": "execute_result"
        }
      ],
      "source": [
        "# buscamos quedarnos con CABA y GBA, por lo que los valores dentro de 'aglomerado' deben ser 32 y 33\n",
        "# eliminamos los que no cumplan esta condicion\n",
        "eph = eph[eph['AGLOMERADO'].isin([32, 33])].reset_index(drop=True)\n",
        "eph.shape\n",
        "# Notamos que ahora pasamos de 47337 obs a 7380 obs"
      ]
    },
    {
      "cell_type": "markdown",
      "metadata": {
        "id": "sPvZHNMfvYLj"
      },
      "source": [
        "## Ejercicio 2.b) Outliers"
      ]
    },
    {
      "cell_type": "code",
      "execution_count": 480,
      "metadata": {
        "colab": {
          "base_uri": "https://localhost:8080/"
        },
        "id": "9nWWP7eL_dFG",
        "outputId": "4529ef47-fdb7-44fc-bf0c-c003a8c7db6f"
      },
      "outputs": [
        {
          "name": "stdout",
          "output_type": "stream",
          "text": [
            "observaciones antes de eliminar outliers: 7380\n",
            "despues: 6360\n",
            "se eliminaron: 1020 observaciones\n"
          ]
        }
      ],
      "source": [
        "antes = eph.shape[0]\n",
        "print(\"observaciones antes de eliminar outliers:\", eph.shape[0])\n",
        "\n",
        "# las columnas que vamos a chequear si tiene outliers:\n",
        "# son columnas que deberian ser positivas sino no tienen sentido\n",
        "columnas = ['CH06',       # edad\n",
        "              'PP08D1',   # ingresos de asalariados\n",
        "              'PP06C',    # ingresos de independientes sin cuentas de asociados\n",
        "              'PP06D',    # ingresos de independientes con cuentas de asociados\n",
        "              'ITF',      # Ingreso total familiar\n",
        "              'IPCF']     # Ingreso per capita familiar\n",
        "\n",
        "# esta función toma un numero y los valores negativos los convierte en NA\n",
        "# es para aplicarla con .apply() a cada columna despues\n",
        "def outliers(val):\n",
        "  if val < 0:\n",
        "    return \"borrar\"\n",
        "  else:\n",
        "    return val\n",
        "\n",
        "# Convermitmos en el string \"borrar\" los valores que no tienen sentido\n",
        "for col in columnas:\n",
        "  eph[col] = eph[col].apply(outliers)\n",
        "\n",
        "# eliminamos los outliers que identificamos como \"borrar\"\n",
        "\n",
        "# esto encuentra los indices de las filas que tienen el string \"borrar\" y los dropea\n",
        "eph = eph.drop(np.where(eph.applymap(lambda x: x == 'borrar').any(axis=1))[0])\n",
        "\n",
        "eph.reset_index(drop=True, inplace=True)\n",
        "\n",
        "\n",
        "print(\"despues:\", eph.shape[0])\n",
        "print(\"se eliminaron:\", antes-eph.shape[0], \"observaciones\")"
      ]
    },
    {
      "cell_type": "markdown",
      "metadata": {
        "id": "Sh_xZQFKvfUP"
      },
      "source": [
        "## Ejercicio 2.c) Histograma por sexo"
      ]
    },
    {
      "cell_type": "code",
      "execution_count": 481,
      "metadata": {
        "colab": {
          "base_uri": "https://localhost:8080/",
          "height": 472
        },
        "id": "ptTCRMksq9-Q",
        "outputId": "4ba4cf8c-9d02-43a0-d187-8997b873327a"
      },
      "outputs": [
        {
          "data": {
            "image/png": "[encoded data removed]",
            "text/plain": [
              "<Figure size 640x480 with 1 Axes>"
            ]
          },
          "metadata": {},
          "output_type": "display_data"
        }
      ],
      "source": [
        "# guardamos la frecuencia de cada sexo\n",
        "freq_dict = {'varon': 0, 'mujer': 0}\n",
        "for item in eph['CH04']:\n",
        "  if item == 1:\n",
        "    freq_dict['varon'] += 1\n",
        "  elif item == 2:\n",
        "    freq_dict['mujer'] += 1\n",
        "\n",
        "# computamos la proporcion de varones y de mujeres\n",
        "freq_dict['varon'] = freq_dict['varon'] / len(eph['CH04'])\n",
        "freq_dict['mujer'] = freq_dict['mujer'] / len(eph['CH04'])\n",
        "\n",
        "# hacemos el histograma con matplot\n",
        "plt.bar(list(freq_dict.keys()), list(freq_dict.values()))\n",
        "plt.xlabel('Sexo')\n",
        "plt.ylabel('Frecuencia')\n",
        "plt.title('composicion por sexo')\n",
        "plt.show()"
      ]
    },
    {
      "cell_type": "markdown",
      "metadata": {
        "id": "U5xCebqevih-"
      },
      "source": [
        "## Ejercicio 2.d) Matriz de Correlación"
      ]
    },
    {
      "cell_type": "code",
      "execution_count": 482,
      "metadata": {
        "colab": {
          "base_uri": "https://localhost:8080/",
          "height": 725
        },
        "id": "mqyZy1QdsaPm",
        "outputId": "128e1413-f06b-46ae-f19a-da6687e3627a"
      },
      "outputs": [
        {
          "data": {
            "text/plain": [
              "<Figure size 700x700 with 0 Axes>"
            ]
          },
          "metadata": {},
          "output_type": "display_data"
        },
        {
          "data": {
            "image/png": "[encoded data removed]",
            "text/plain": [
              "<Figure size 1000x800 with 2 Axes>"
            ]
          },
          "metadata": {},
          "output_type": "display_data"
        }
      ],
      "source": [
        "plt.figure(figsize=(7, 7))\n",
        "eph_2 = eph[['CH04', 'CH07', 'CH08', 'NIVEL_ED', 'ESTADO', 'CAT_INAC', 'IPCF']]\n",
        "eph_2 = eph_2.rename(columns={\n",
        "    'CH04': 'Sexo',\n",
        "    'CH07': 'Estado Civil',\n",
        "    'CH08': 'Cobertura Medica',\n",
        "    'NIVEL_ED': 'Nivel de Educación',\n",
        "    'ESTADO': 'Condicion de Actividad',\n",
        "    'CAT_INAC': 'Categoría de inactividad',\n",
        "    'IPCF': 'Ingreso per capita familiar'\n",
        "})\n",
        "corr = eph_2.corr()\n",
        "plt.figure(figsize=(10, 8))\n",
        "sns.heatmap(corr, annot=True, fmt=\".2f\", cmap='coolwarm', square=True, linewidths=.5)\n",
        "plt.title('Matriz de correlacion')\n",
        "plt.show()"
      ]
    },
    {
      "cell_type": "markdown",
      "metadata": {
        "id": "PitF8HQFvmji"
      },
      "source": [
        "## Ejercicio 2.e) Descripción de la base"
      ]
    },
    {
      "cell_type": "code",
      "execution_count": 483,
      "metadata": {
        "colab": {
          "base_uri": "https://localhost:8080/"
        },
        "id": "ule9-sGqxCMv",
        "outputId": "2c523152-21f4-4ab6-9c91-ccd94a1c617d"
      },
      "outputs": [
        {
          "name": "stdout",
          "output_type": "stream",
          "text": [
            "La cantidad de desocupados en la muestra es de 240\n",
            "La cantidad de inactivos en la muestra es de 2765\n",
            "La media del ingreso per capita familiar para activos es 182038.68\n",
            "La media del ingreso per capita familiar para desocupados es 58012.20\n",
            "La media del ingreso per capita familiar para inactivos es 84993.68\n"
          ]
        }
      ],
      "source": [
        "print(f\"La cantidad de desocupados en la muestra es de {len(eph[eph['ESTADO'] == 2])}\")\n",
        "print(f\"La cantidad de inactivos en la muestra es de {len(eph[eph['ESTADO'] == 3])}\")\n",
        "print(f\"La media del ingreso per capita familiar para activos es {np.mean(eph['IPCF'][eph['ESTADO'] == 1]):.2f}\")\n",
        "print(f\"La media del ingreso per capita familiar para desocupados es {np.mean(eph['IPCF'][eph['ESTADO'] == 2]):.2f}\")\n",
        "print(f\"La media del ingreso per capita familiar para inactivos es {np.mean(eph['IPCF'][eph['ESTADO'] == 3]):.2f}\")"
      ]
    },
    {
      "cell_type": "markdown",
      "metadata": {
        "id": "MfYjPWZuvvoc"
      },
      "source": [
        "## Ejercicio 2.f) Adulto equivalente\n",
        "Agregamos en la base eph una columna 'ad_equiv_hogar' "
      ]
    },
    {
      "cell_type": "code",
      "execution_count": 484,
      "metadata": {
        "colab": {
          "base_uri": "https://localhost:8080/"
        },
        "collapsed": true,
        "id": "2CWRmnWJRX8k",
        "outputId": "ce32a5ae-5787-4636-bd11-d7842383c074"
      },
      "outputs": [],
      "source": [
        "# leemos el documento y acomodamos el nombre de las columnas\n",
        "ad_equiv = pd.read_excel(\"tabla_adulto_equiv.xlsx\")\n",
        "ad_equiv.rename(columns={'Tabla de equivalencias de necesidades energéticas. Unidades de adulto equivalente, según sexo y edad': 'edad', \n",
        "                         'Unnamed: 1': 'mujeres', \n",
        "                         'Unnamed: 2': 'varones'}, \n",
        "                inplace=True)\n",
        "\n",
        "# borramos las columnas que no necesitamos\n",
        "ad_equiv.drop([0,1,2,3,27,28,29,30,31,32,33,34,35,36,37,38], inplace=True)\n",
        "ad_equiv.reset_index(drop=True, inplace=True)\n",
        "\n",
        "# generamos en la base de eph la columna de necesidades energeticas\n",
        "eph['adulto_equiv'] = np.nan\n",
        "\n",
        "\n",
        "# agarramos en cada rango de edades descrito como string el comienzo y el final del rango\n",
        "# esta funcion rango le das un string y crea una lista con los numeros que haya en ese string\n",
        "def rangos(s):             \n",
        "    num_str = ''\n",
        "    edades = []\n",
        "    for car in s:\n",
        "        if car.isdigit():\n",
        "            num_str += car\n",
        "        elif num_str:\n",
        "            edades.append(int(num_str))\n",
        "            num_str = ''\n",
        "    if num_str:\n",
        "        edades.append(int(num_str))\n",
        "    return edades\n",
        "\n",
        "# hacemos que la columna de strings que describen los rangos sea una columna de listas\n",
        "ad_equiv['edad'] = ad_equiv['edad'].apply(rangos)\n",
        "\n",
        "# hacemos que cada lista tenga dos elementos, comienzo y final, tal que los lea python (1 más que el valor final)\n",
        "for r in ad_equiv['edad']:\n",
        "    if len(r) == 1:\n",
        "        r.append(r[-1] + 1)\n",
        "    else:\n",
        "        r[-1] += 1\n",
        "\n",
        "ad_equiv.loc[0, 'edad'][0],  ad_equiv.loc[0, 'edad'][1]= 0, 1   # corregimos el primer rango\n",
        "ad_equiv.loc[ad_equiv.index[-1], 'edad'][-1] = 150              # el ultimo rango lo hacemos hasta 150\n",
        "\n",
        "\n",
        "# asignamos las necesidades electricas a la columna de eph\n",
        "for index, row in ad_equiv.iterrows():\n",
        "    age_list = list(range(row['edad'][0], row['edad'][1]))\n",
        "    for sex, column in [(1, 'varones'), (2, 'mujeres')]:\n",
        "        # aca asigna en 'adulto_equiv' los que cumpla la condicion de su respectiva edad y sexo\n",
        "        eph.loc[(eph['CH06'].isin(age_list)) & (eph['CH04'] == sex), 'adulto_equiv'] = row[column]\n"
      ]
    },
    {
      "cell_type": "markdown",
      "metadata": {},
      "source": [
        "Ahora para cada hogar sumamos los valores de adulto equivalente de los miembros del hogar"
      ]
    },
    {
      "cell_type": "code",
      "execution_count": 485,
      "metadata": {
        "colab": {
          "base_uri": "https://localhost:8080/",
          "height": 424
        },
        "id": "YRrociVxcpGG",
        "outputId": "baecdc02-b618-477b-f601-fcb2e1f8528d"
      },
      "outputs": [
        {
          "data": {
            "text/html": [
              "<div>\n",
              "<style scoped>\n",
              "    .dataframe tbody tr th:only-of-type {\n",
              "        vertical-align: middle;\n",
              "    }\n",
              "\n",
              "    .dataframe tbody tr th {\n",
              "        vertical-align: top;\n",
              "    }\n",
              "\n",
              "    .dataframe thead th {\n",
              "        text-align: right;\n",
              "    }\n",
              "</style>\n",
              "<table border=\"1\" class=\"dataframe\">\n",
              "  <thead>\n",
              "    <tr style=\"text-align: right;\">\n",
              "      <th></th>\n",
              "      <th>ad_equiv_hogar</th>\n",
              "      <th>CODUSU</th>\n",
              "      <th>CH06</th>\n",
              "    </tr>\n",
              "  </thead>\n",
              "  <tbody>\n",
              "    <tr>\n",
              "      <th>0</th>\n",
              "      <td>1.37</td>\n",
              "      <td>TQRMNOTUUHJMLPCDEIIAD00801670</td>\n",
              "      <td>76</td>\n",
              "    </tr>\n",
              "    <tr>\n",
              "      <th>1</th>\n",
              "      <td>1.37</td>\n",
              "      <td>TQRMNOTUUHJMLPCDEIIAD00801670</td>\n",
              "      <td>79</td>\n",
              "    </tr>\n",
              "    <tr>\n",
              "      <th>2</th>\n",
              "      <td>5.64</td>\n",
              "      <td>TQRMNOPUUHJKLQCDEIIAD00793187</td>\n",
              "      <td>65</td>\n",
              "    </tr>\n",
              "    <tr>\n",
              "      <th>3</th>\n",
              "      <td>5.64</td>\n",
              "      <td>TQRMNOPUUHJKLQCDEIIAD00793187</td>\n",
              "      <td>66</td>\n",
              "    </tr>\n",
              "    <tr>\n",
              "      <th>4</th>\n",
              "      <td>2.82</td>\n",
              "      <td>TQRMNOPUTHKLMNCDEIIAD00791268</td>\n",
              "      <td>49</td>\n",
              "    </tr>\n",
              "    <tr>\n",
              "      <th>...</th>\n",
              "      <td>...</td>\n",
              "      <td>...</td>\n",
              "      <td>...</td>\n",
              "    </tr>\n",
              "    <tr>\n",
              "      <th>6355</th>\n",
              "      <td>2.43</td>\n",
              "      <td>TQRMNOSRQHLMNSCDEIJAH00855730</td>\n",
              "      <td>39</td>\n",
              "    </tr>\n",
              "    <tr>\n",
              "      <th>6356</th>\n",
              "      <td>2.43</td>\n",
              "      <td>TQRMNOSRQHLMNSCDEIJAH00855730</td>\n",
              "      <td>7</td>\n",
              "    </tr>\n",
              "    <tr>\n",
              "      <th>6357</th>\n",
              "      <td>2.52</td>\n",
              "      <td>TQRMNOVTYHLMNUCDEIJAH00855731</td>\n",
              "      <td>67</td>\n",
              "    </tr>\n",
              "    <tr>\n",
              "      <th>6358</th>\n",
              "      <td>2.52</td>\n",
              "      <td>TQRMNOVTYHLMNUCDEIJAH00855731</td>\n",
              "      <td>67</td>\n",
              "    </tr>\n",
              "    <tr>\n",
              "      <th>6359</th>\n",
              "      <td>2.52</td>\n",
              "      <td>TQRMNOVTYHLMNUCDEIJAH00855731</td>\n",
              "      <td>25</td>\n",
              "    </tr>\n",
              "  </tbody>\n",
              "</table>\n",
              "<p>6360 rows × 3 columns</p>\n",
              "</div>"
            ],
            "text/plain": [
              "      ad_equiv_hogar                         CODUSU CH06\n",
              "0               1.37  TQRMNOTUUHJMLPCDEIIAD00801670   76\n",
              "1               1.37  TQRMNOTUUHJMLPCDEIIAD00801670   79\n",
              "2               5.64  TQRMNOPUUHJKLQCDEIIAD00793187   65\n",
              "3               5.64  TQRMNOPUUHJKLQCDEIIAD00793187   66\n",
              "4               2.82  TQRMNOPUTHKLMNCDEIIAD00791268   49\n",
              "...              ...                            ...  ...\n",
              "6355            2.43  TQRMNOSRQHLMNSCDEIJAH00855730   39\n",
              "6356            2.43  TQRMNOSRQHLMNSCDEIJAH00855730    7\n",
              "6357            2.52  TQRMNOVTYHLMNUCDEIJAH00855731   67\n",
              "6358            2.52  TQRMNOVTYHLMNUCDEIJAH00855731   67\n",
              "6359            2.52  TQRMNOVTYHLMNUCDEIJAH00855731   25\n",
              "\n",
              "[6360 rows x 3 columns]"
            ]
          },
          "execution_count": 485,
          "metadata": {},
          "output_type": "execute_result"
        }
      ],
      "source": [
        "eph = eph.assign(ad_equiv_hogar=eph.groupby('CODUSU')['adulto_equiv'].transform('sum'))\n",
        "eph[['ad_equiv_hogar', 'CODUSU', 'CH06']]"
      ]
    },
    {
      "cell_type": "markdown",
      "metadata": {},
      "source": [
        "## Ejercicio 3\n",
        "Dividimos la base de datos eph en dos: 'respondieron' y 'norespondieron"
      ]
    },
    {
      "cell_type": "code",
      "execution_count": 486,
      "metadata": {
        "colab": {
          "base_uri": "https://localhost:8080/"
        },
        "id": "Z5FxWl0k2k4A",
        "outputId": "d36ca3b4-091c-46db-af00-9f775c8a18b8"
      },
      "outputs": [
        {
          "name": "stdout",
          "output_type": "stream",
          "text": [
            "La cantidad de personas que no respondieron cual es su ingreso familiar es 2005\n",
            " obs en norespondieron 2005 \n",
            " obs en respondieron 4355 \n",
            " check: suma de ambas = 6360 , total = 6360\n"
          ]
        }
      ],
      "source": [
        "respondieron=eph[eph['ITF'] != 0].reset_index(drop=True)\n",
        "respondieron['ITF']\n",
        "norespondieron=eph[eph['ITF']==0].reset_index(drop=True)\n",
        "print(f\"La cantidad de personas que no respondieron cual es su ingreso familiar es {len(eph[eph['ITF']==0])}\")\n",
        "print(\" obs en norespondieron\", norespondieron.shape[0], \"\\n\", \n",
        "      \"obs en respondieron\", respondieron.shape[0], \"\\n\",\n",
        "      \"check: suma de ambas =\", respondieron.shape[0]+norespondieron.shape[0], \", total =\",  eph.shape[0])"
      ]
    },
    {
      "cell_type": "markdown",
      "metadata": {},
      "source": [
        "## Ejercicio 4\n",
        "Agregamos a la base respondieron la columna 'ingreso_necesario'"
      ]
    },
    {
      "cell_type": "code",
      "execution_count": 487,
      "metadata": {
        "colab": {
          "base_uri": "https://localhost:8080/"
        },
        "collapsed": true,
        "id": "Wxbm-e2jVwh0",
        "outputId": "d24791af-0559-4105-8f34-0a225af6c9bf"
      },
      "outputs": [
        {
          "data": {
            "text/html": [
              "<div>\n",
              "<style scoped>\n",
              "    .dataframe tbody tr th:only-of-type {\n",
              "        vertical-align: middle;\n",
              "    }\n",
              "\n",
              "    .dataframe tbody tr th {\n",
              "        vertical-align: top;\n",
              "    }\n",
              "\n",
              "    .dataframe thead th {\n",
              "        text-align: right;\n",
              "    }\n",
              "</style>\n",
              "<table border=\"1\" class=\"dataframe\">\n",
              "  <thead>\n",
              "    <tr style=\"text-align: right;\">\n",
              "      <th></th>\n",
              "      <th>ingreso_necesario</th>\n",
              "      <th>ITF</th>\n",
              "      <th>CODUSU</th>\n",
              "    </tr>\n",
              "  </thead>\n",
              "  <tbody>\n",
              "    <tr>\n",
              "      <th>0</th>\n",
              "      <td>182009.021</td>\n",
              "      <td>450000</td>\n",
              "      <td>TQRMNOTUUHJMLPCDEIIAD00801670</td>\n",
              "    </tr>\n",
              "    <tr>\n",
              "      <th>1</th>\n",
              "      <td>182009.021</td>\n",
              "      <td>450000</td>\n",
              "      <td>TQRMNOTUUHJMLPCDEIIAD00801670</td>\n",
              "    </tr>\n",
              "    <tr>\n",
              "      <th>2</th>\n",
              "      <td>374646.306</td>\n",
              "      <td>800000</td>\n",
              "      <td>TQRMNOPUTHKLMNCDEIIAD00791268</td>\n",
              "    </tr>\n",
              "    <tr>\n",
              "      <th>3</th>\n",
              "      <td>374646.306</td>\n",
              "      <td>800000</td>\n",
              "      <td>TQRMNOPUTHKLMNCDEIIAD00791268</td>\n",
              "    </tr>\n",
              "    <tr>\n",
              "      <th>4</th>\n",
              "      <td>374646.306</td>\n",
              "      <td>800000</td>\n",
              "      <td>TQRMNOPUTHKLMNCDEIIAD00791268</td>\n",
              "    </tr>\n",
              "    <tr>\n",
              "      <th>...</th>\n",
              "      <td>...</td>\n",
              "      <td>...</td>\n",
              "      <td>...</td>\n",
              "    </tr>\n",
              "    <tr>\n",
              "      <th>4350</th>\n",
              "      <td>322833.519</td>\n",
              "      <td>800000</td>\n",
              "      <td>TQRMNOSRQHLMNSCDEIJAH00855730</td>\n",
              "    </tr>\n",
              "    <tr>\n",
              "      <th>4351</th>\n",
              "      <td>322833.519</td>\n",
              "      <td>800000</td>\n",
              "      <td>TQRMNOSRQHLMNSCDEIJAH00855730</td>\n",
              "    </tr>\n",
              "    <tr>\n",
              "      <th>4352</th>\n",
              "      <td>334790.316</td>\n",
              "      <td>240000</td>\n",
              "      <td>TQRMNOVTYHLMNUCDEIJAH00855731</td>\n",
              "    </tr>\n",
              "    <tr>\n",
              "      <th>4353</th>\n",
              "      <td>334790.316</td>\n",
              "      <td>240000</td>\n",
              "      <td>TQRMNOVTYHLMNUCDEIJAH00855731</td>\n",
              "    </tr>\n",
              "    <tr>\n",
              "      <th>4354</th>\n",
              "      <td>334790.316</td>\n",
              "      <td>240000</td>\n",
              "      <td>TQRMNOVTYHLMNUCDEIJAH00855731</td>\n",
              "    </tr>\n",
              "  </tbody>\n",
              "</table>\n",
              "<p>4355 rows × 3 columns</p>\n",
              "</div>"
            ],
            "text/plain": [
              "      ingreso_necesario     ITF                         CODUSU\n",
              "0            182009.021  450000  TQRMNOTUUHJMLPCDEIIAD00801670\n",
              "1            182009.021  450000  TQRMNOTUUHJMLPCDEIIAD00801670\n",
              "2            374646.306  800000  TQRMNOPUTHKLMNCDEIIAD00791268\n",
              "3            374646.306  800000  TQRMNOPUTHKLMNCDEIIAD00791268\n",
              "4            374646.306  800000  TQRMNOPUTHKLMNCDEIIAD00791268\n",
              "...                 ...     ...                            ...\n",
              "4350         322833.519  800000  TQRMNOSRQHLMNSCDEIJAH00855730\n",
              "4351         322833.519  800000  TQRMNOSRQHLMNSCDEIJAH00855730\n",
              "4352         334790.316  240000  TQRMNOVTYHLMNUCDEIJAH00855731\n",
              "4353         334790.316  240000  TQRMNOVTYHLMNUCDEIJAH00855731\n",
              "4354         334790.316  240000  TQRMNOVTYHLMNUCDEIJAH00855731\n",
              "\n",
              "[4355 rows x 3 columns]"
            ]
          },
          "execution_count": 487,
          "metadata": {},
          "output_type": "execute_result"
        }
      ],
      "source": [
        "respondieron['ingreso_necesario'] = np.nan\n",
        "ingreso_por_adulto= 132853.3\n",
        "respondieron['ingreso_necesario'] = respondieron['ad_equiv_hogar'] * ingreso_por_adulto\n",
        "respondieron[['ingreso_necesario', 'ITF', 'CODUSU']]"
      ]
    },
    {
      "cell_type": "markdown",
      "metadata": {},
      "source": [
        "## Ejercicio 5\n",
        "en la base 'respondieron' agregamos una columna 'pobre'"
      ]
    },
    {
      "cell_type": "code",
      "execution_count": 488,
      "metadata": {
        "colab": {
          "base_uri": "https://localhost:8080/"
        },
        "collapsed": true,
        "id": "7TFGjbhhbvAC",
        "outputId": "5b0a6171-44a8-4e2a-80b7-f4f9b35aeabc"
      },
      "outputs": [
        {
          "name": "stdout",
          "output_type": "stream",
          "text": [
            " pobres entre los que respondieron: 1738 \n",
            " no pobres entre los que respondieron: 2617\n"
          ]
        }
      ],
      "source": [
        "respondieron['pobre'] = np.nan\n",
        "respondieron['pobre'] = 0\n",
        "respondieron.loc[respondieron['ITF'] < respondieron['ingreso_necesario'], 'pobre'] = 1\n",
        "print(\" pobres entre los que respondieron:\", len(respondieron[respondieron['pobre']==1]), \"\\n\",\n",
        "      \"no pobres entre los que respondieron:\", len(respondieron[respondieron['pobre']==0]))"
      ]
    }
  ],
  "metadata": {
    "colab": {
      "provenance": []
    },
    "kernelspec": {
      "display_name": "Python 3",
      "name": "python3"
    },
    "language_info": {
      "codemirror_mode": {
        "name": "ipython",
        "version": 3
      },
      "file_extension": ".py",
      "mimetype": "text/x-python",
      "name": "python",
      "nbconvert_exporter": "python",
      "pygments_lexer": "ipython3",
      "version": "3.12.2"
    }
  },
  "nbformat": 4,
  "nbformat_minor": 0
}
